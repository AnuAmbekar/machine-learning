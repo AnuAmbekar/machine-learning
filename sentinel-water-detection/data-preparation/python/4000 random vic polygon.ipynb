{
 "cells": [
  {
   "cell_type": "code",
   "execution_count": 1,
   "metadata": {},
   "outputs": [
    {
     "name": "stdout",
     "output_type": "stream",
     "text": [
      "Requirement already satisfied: pandas in ./opt/anaconda3/lib/python3.8/site-packages (1.1.3)\r\n",
      "Requirement already satisfied: numpy>=1.15.4 in ./opt/anaconda3/lib/python3.8/site-packages (from pandas) (1.19.2)\r\n",
      "Requirement already satisfied: pytz>=2017.2 in ./opt/anaconda3/lib/python3.8/site-packages (from pandas) (2020.1)\r\n",
      "Requirement already satisfied: python-dateutil>=2.7.3 in ./opt/anaconda3/lib/python3.8/site-packages (from pandas) (2.8.1)\r\n",
      "Requirement already satisfied: six>=1.5 in ./opt/anaconda3/lib/python3.8/site-packages (from python-dateutil>=2.7.3->pandas) (1.15.0)\r\n"
     ]
    }
   ],
   "source": [
    "!pip install pandas\n",
    "import pandas as pd"
   ]
  },
  {
   "cell_type": "code",
   "execution_count": 2,
   "metadata": {},
   "outputs": [],
   "source": [
    "# use your own file path \n",
    "data = pd.read_csv('/Users/billhuynh/Downloads/VicLakesCSV.csv')"
   ]
  },
  {
   "cell_type": "code",
   "execution_count": 3,
   "metadata": {},
   "outputs": [
    {
     "data": {
      "text/html": [
       "<div>\n",
       "<style scoped>\n",
       "    .dataframe tbody tr th:only-of-type {\n",
       "        vertical-align: middle;\n",
       "    }\n",
       "\n",
       "    .dataframe tbody tr th {\n",
       "        vertical-align: top;\n",
       "    }\n",
       "\n",
       "    .dataframe thead th {\n",
       "        text-align: right;\n",
       "    }\n",
       "</style>\n",
       "<table border=\"1\" class=\"dataframe\">\n",
       "  <thead>\n",
       "    <tr style=\"text-align: right;\">\n",
       "      <th></th>\n",
       "      <th>WKT</th>\n",
       "      <th>fid</th>\n",
       "      <th>ID</th>\n",
       "      <th>AreaM2</th>\n",
       "      <th>FEATURETYP</th>\n",
       "    </tr>\n",
       "  </thead>\n",
       "  <tbody>\n",
       "    <tr>\n",
       "      <th>0</th>\n",
       "      <td>MULTIPOLYGON (((140.973130643954 -37.570187131...</td>\n",
       "      <td>1512837</td>\n",
       "      <td>NaN</td>\n",
       "      <td>2.796315e-06</td>\n",
       "      <td>Land Subject To Inundation</td>\n",
       "    </tr>\n",
       "    <tr>\n",
       "      <th>1</th>\n",
       "      <td>MULTIPOLYGON (((140.973190793424 -37.563161872...</td>\n",
       "      <td>1512706</td>\n",
       "      <td>NaN</td>\n",
       "      <td>1.370501e-06</td>\n",
       "      <td>Land Subject To Inundation</td>\n",
       "    </tr>\n",
       "    <tr>\n",
       "      <th>2</th>\n",
       "      <td>MULTIPOLYGON (((140.9812935 -37.621994,140.981...</td>\n",
       "      <td>1423281</td>\n",
       "      <td>NaN</td>\n",
       "      <td>6.338329e-07</td>\n",
       "      <td>Land Subject To Inundation</td>\n",
       "    </tr>\n",
       "    <tr>\n",
       "      <th>3</th>\n",
       "      <td>MULTIPOLYGON (((140.97269875808 -37.6224378050...</td>\n",
       "      <td>1425498</td>\n",
       "      <td>NaN</td>\n",
       "      <td>1.699372e-06</td>\n",
       "      <td>Land Subject To Inundation</td>\n",
       "    </tr>\n",
       "    <tr>\n",
       "      <th>4</th>\n",
       "      <td>MULTIPOLYGON (((140.97269875808 -37.6224378050...</td>\n",
       "      <td>1507627</td>\n",
       "      <td>NaN</td>\n",
       "      <td>1.699372e-06</td>\n",
       "      <td>Land Subject To Inundation</td>\n",
       "    </tr>\n",
       "    <tr>\n",
       "      <th>5</th>\n",
       "      <td>MULTIPOLYGON (((140.975016 -37.6194265,140.975...</td>\n",
       "      <td>1411824</td>\n",
       "      <td>NaN</td>\n",
       "      <td>4.061686e-07</td>\n",
       "      <td>Land Subject To Inundation</td>\n",
       "    </tr>\n",
       "    <tr>\n",
       "      <th>6</th>\n",
       "      <td>MULTIPOLYGON (((140.972731292395 -37.617552116...</td>\n",
       "      <td>1426524</td>\n",
       "      <td>NaN</td>\n",
       "      <td>7.725381e-07</td>\n",
       "      <td>Land Subject To Inundation</td>\n",
       "    </tr>\n",
       "    <tr>\n",
       "      <th>7</th>\n",
       "      <td>MULTIPOLYGON (((140.972731292395 -37.617552116...</td>\n",
       "      <td>1513668</td>\n",
       "      <td>NaN</td>\n",
       "      <td>7.725381e-07</td>\n",
       "      <td>Land Subject To Inundation</td>\n",
       "    </tr>\n",
       "    <tr>\n",
       "      <th>8</th>\n",
       "      <td>MULTIPOLYGON (((140.972749591026 -37.614806770...</td>\n",
       "      <td>1426522</td>\n",
       "      <td>NaN</td>\n",
       "      <td>4.452055e-06</td>\n",
       "      <td>Land Subject To Inundation</td>\n",
       "    </tr>\n",
       "    <tr>\n",
       "      <th>9</th>\n",
       "      <td>MULTIPOLYGON (((140.972749591026 -37.614806770...</td>\n",
       "      <td>1513620</td>\n",
       "      <td>NaN</td>\n",
       "      <td>4.452055e-06</td>\n",
       "      <td>Land Subject To Inundation</td>\n",
       "    </tr>\n",
       "  </tbody>\n",
       "</table>\n",
       "</div>"
      ],
      "text/plain": [
       "                                                 WKT      fid  ID  \\\n",
       "0  MULTIPOLYGON (((140.973130643954 -37.570187131...  1512837 NaN   \n",
       "1  MULTIPOLYGON (((140.973190793424 -37.563161872...  1512706 NaN   \n",
       "2  MULTIPOLYGON (((140.9812935 -37.621994,140.981...  1423281 NaN   \n",
       "3  MULTIPOLYGON (((140.97269875808 -37.6224378050...  1425498 NaN   \n",
       "4  MULTIPOLYGON (((140.97269875808 -37.6224378050...  1507627 NaN   \n",
       "5  MULTIPOLYGON (((140.975016 -37.6194265,140.975...  1411824 NaN   \n",
       "6  MULTIPOLYGON (((140.972731292395 -37.617552116...  1426524 NaN   \n",
       "7  MULTIPOLYGON (((140.972731292395 -37.617552116...  1513668 NaN   \n",
       "8  MULTIPOLYGON (((140.972749591026 -37.614806770...  1426522 NaN   \n",
       "9  MULTIPOLYGON (((140.972749591026 -37.614806770...  1513620 NaN   \n",
       "\n",
       "         AreaM2                  FEATURETYP  \n",
       "0  2.796315e-06  Land Subject To Inundation  \n",
       "1  1.370501e-06  Land Subject To Inundation  \n",
       "2  6.338329e-07  Land Subject To Inundation  \n",
       "3  1.699372e-06  Land Subject To Inundation  \n",
       "4  1.699372e-06  Land Subject To Inundation  \n",
       "5  4.061686e-07  Land Subject To Inundation  \n",
       "6  7.725381e-07  Land Subject To Inundation  \n",
       "7  7.725381e-07  Land Subject To Inundation  \n",
       "8  4.452055e-06  Land Subject To Inundation  \n",
       "9  4.452055e-06  Land Subject To Inundation  "
      ]
     },
     "execution_count": 3,
     "metadata": {},
     "output_type": "execute_result"
    }
   ],
   "source": [
    "data.head(10)\n"
   ]
  },
  {
   "cell_type": "code",
   "execution_count": 5,
   "metadata": {},
   "outputs": [],
   "source": [
    "NewWaterData = data.sample(n = 4000, replace = False)"
   ]
  },
  {
   "cell_type": "code",
   "execution_count": 6,
   "metadata": {},
   "outputs": [],
   "source": [
    "NewWaterData.to_csv(r'/Users/billhuynh/Downloads/4000waterploygons.csv',index=False)"
   ]
  },
  {
   "cell_type": "code",
   "execution_count": 7,
   "metadata": {},
   "outputs": [
    {
     "data": {
      "text/plain": [
       "'/Users/billhuynh'"
      ]
     },
     "execution_count": 7,
     "metadata": {},
     "output_type": "execute_result"
    }
   ],
   "source": [
    "pwd"
   ]
  },
  {
   "cell_type": "code",
   "execution_count": null,
   "metadata": {},
   "outputs": [],
   "source": []
  }
 ],
 "metadata": {
  "kernelspec": {
   "display_name": "Python 3",
   "language": "python",
   "name": "python3"
  },
  "language_info": {
   "codemirror_mode": {
    "name": "ipython",
    "version": 3
   },
   "file_extension": ".py",
   "mimetype": "text/x-python",
   "name": "python",
   "nbconvert_exporter": "python",
   "pygments_lexer": "ipython3",
   "version": "3.8.5"
  }
 },
 "nbformat": 4,
 "nbformat_minor": 4
}
