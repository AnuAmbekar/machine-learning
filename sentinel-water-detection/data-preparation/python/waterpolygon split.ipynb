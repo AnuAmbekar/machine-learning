{
 "cells": [
  {
   "cell_type": "code",
   "execution_count": 2,
   "metadata": {},
   "outputs": [
    {
     "name": "stdout",
     "output_type": "stream",
     "text": [
      "Requirement already satisfied: pandas in ./opt/anaconda3/lib/python3.8/site-packages (1.1.3)\r\n",
      "Requirement already satisfied: pytz>=2017.2 in ./opt/anaconda3/lib/python3.8/site-packages (from pandas) (2020.1)\r\n",
      "Requirement already satisfied: numpy>=1.15.4 in ./opt/anaconda3/lib/python3.8/site-packages (from pandas) (1.19.2)\r\n",
      "Requirement already satisfied: python-dateutil>=2.7.3 in ./opt/anaconda3/lib/python3.8/site-packages (from pandas) (2.8.1)\r\n",
      "Requirement already satisfied: six>=1.5 in ./opt/anaconda3/lib/python3.8/site-packages (from python-dateutil>=2.7.3->pandas) (1.15.0)\r\n"
     ]
    }
   ],
   "source": [
    "!pip install pandas\n",
    "import pandas as pd"
   ]
  },
  {
   "cell_type": "code",
   "execution_count": 25,
   "metadata": {},
   "outputs": [],
   "source": [
    "# use your own file path \n",
    "data = pd.read_csv('/Users/billhuynh/Downloads/waterpolygonbig.csv')\n"
   ]
  },
  {
   "cell_type": "code",
   "execution_count": 26,
   "metadata": {},
   "outputs": [
    {
     "data": {
      "text/html": [
       "<div>\n",
       "<style scoped>\n",
       "    .dataframe tbody tr th:only-of-type {\n",
       "        vertical-align: middle;\n",
       "    }\n",
       "\n",
       "    .dataframe tbody tr th {\n",
       "        vertical-align: top;\n",
       "    }\n",
       "\n",
       "    .dataframe thead th {\n",
       "        text-align: right;\n",
       "    }\n",
       "</style>\n",
       "<table border=\"1\" class=\"dataframe\">\n",
       "  <thead>\n",
       "    <tr style=\"text-align: right;\">\n",
       "      <th></th>\n",
       "      <th>WKT</th>\n",
       "      <th>fid</th>\n",
       "      <th>ID</th>\n",
       "      <th>AreaM2</th>\n",
       "      <th>FEATURETYP</th>\n",
       "    </tr>\n",
       "  </thead>\n",
       "  <tbody>\n",
       "    <tr>\n",
       "      <th>0</th>\n",
       "      <td>MULTIPOLYGON (((149.587854075616 -34.563394674...</td>\n",
       "      <td>1</td>\n",
       "      <td>405106.0</td>\n",
       "      <td>12937.88</td>\n",
       "      <td>Farm Dam Area</td>\n",
       "    </tr>\n",
       "    <tr>\n",
       "      <th>1</th>\n",
       "      <td>MULTIPOLYGON (((147.661886235962 -31.222102991...</td>\n",
       "      <td>2</td>\n",
       "      <td>405107.0</td>\n",
       "      <td>432027.63</td>\n",
       "      <td>Farm Dam Area</td>\n",
       "    </tr>\n",
       "    <tr>\n",
       "      <th>2</th>\n",
       "      <td>MULTIPOLYGON (((147.62002424048 -31.2314459878...</td>\n",
       "      <td>3</td>\n",
       "      <td>405108.0</td>\n",
       "      <td>599893.35</td>\n",
       "      <td>Farm Dam Area</td>\n",
       "    </tr>\n",
       "    <tr>\n",
       "      <th>3</th>\n",
       "      <td>MULTIPOLYGON (((147.985637117727 -31.911455021...</td>\n",
       "      <td>4</td>\n",
       "      <td>405109.0</td>\n",
       "      <td>289723.23</td>\n",
       "      <td>Farm Dam Area</td>\n",
       "    </tr>\n",
       "    <tr>\n",
       "      <th>4</th>\n",
       "      <td>MULTIPOLYGON (((147.5328092028 -31.69136948427...</td>\n",
       "      <td>5</td>\n",
       "      <td>405110.0</td>\n",
       "      <td>1144514.80</td>\n",
       "      <td>Farm Dam Area</td>\n",
       "    </tr>\n",
       "    <tr>\n",
       "      <th>5</th>\n",
       "      <td>MULTIPOLYGON (((151.111683096468 -32.710675298...</td>\n",
       "      <td>6</td>\n",
       "      <td>405111.0</td>\n",
       "      <td>346973.79</td>\n",
       "      <td>Farm Dam Area</td>\n",
       "    </tr>\n",
       "    <tr>\n",
       "      <th>6</th>\n",
       "      <td>MULTIPOLYGON (((149.097691376446 -32.687837619...</td>\n",
       "      <td>7</td>\n",
       "      <td>405112.0</td>\n",
       "      <td>8325.97</td>\n",
       "      <td>Farm Dam Area</td>\n",
       "    </tr>\n",
       "    <tr>\n",
       "      <th>7</th>\n",
       "      <td>MULTIPOLYGON (((150.895555673855 -32.337924276...</td>\n",
       "      <td>8</td>\n",
       "      <td>405113.0</td>\n",
       "      <td>141303.23</td>\n",
       "      <td>Farm Dam Area</td>\n",
       "    </tr>\n",
       "    <tr>\n",
       "      <th>8</th>\n",
       "      <td>MULTIPOLYGON (((147.59205022723 -31.3898954867...</td>\n",
       "      <td>9</td>\n",
       "      <td>405114.0</td>\n",
       "      <td>2817.86</td>\n",
       "      <td>Farm Dam Area</td>\n",
       "    </tr>\n",
       "    <tr>\n",
       "      <th>9</th>\n",
       "      <td>MULTIPOLYGON (((150.485792942897 -34.559961254...</td>\n",
       "      <td>10</td>\n",
       "      <td>405115.0</td>\n",
       "      <td>18154.63</td>\n",
       "      <td>Farm Dam Area</td>\n",
       "    </tr>\n",
       "  </tbody>\n",
       "</table>\n",
       "</div>"
      ],
      "text/plain": [
       "                                                 WKT  fid        ID  \\\n",
       "0  MULTIPOLYGON (((149.587854075616 -34.563394674...    1  405106.0   \n",
       "1  MULTIPOLYGON (((147.661886235962 -31.222102991...    2  405107.0   \n",
       "2  MULTIPOLYGON (((147.62002424048 -31.2314459878...    3  405108.0   \n",
       "3  MULTIPOLYGON (((147.985637117727 -31.911455021...    4  405109.0   \n",
       "4  MULTIPOLYGON (((147.5328092028 -31.69136948427...    5  405110.0   \n",
       "5  MULTIPOLYGON (((151.111683096468 -32.710675298...    6  405111.0   \n",
       "6  MULTIPOLYGON (((149.097691376446 -32.687837619...    7  405112.0   \n",
       "7  MULTIPOLYGON (((150.895555673855 -32.337924276...    8  405113.0   \n",
       "8  MULTIPOLYGON (((147.59205022723 -31.3898954867...    9  405114.0   \n",
       "9  MULTIPOLYGON (((150.485792942897 -34.559961254...   10  405115.0   \n",
       "\n",
       "       AreaM2     FEATURETYP  \n",
       "0    12937.88  Farm Dam Area  \n",
       "1   432027.63  Farm Dam Area  \n",
       "2   599893.35  Farm Dam Area  \n",
       "3   289723.23  Farm Dam Area  \n",
       "4  1144514.80  Farm Dam Area  \n",
       "5   346973.79  Farm Dam Area  \n",
       "6     8325.97  Farm Dam Area  \n",
       "7   141303.23  Farm Dam Area  \n",
       "8     2817.86  Farm Dam Area  \n",
       "9    18154.63  Farm Dam Area  "
      ]
     },
     "execution_count": 26,
     "metadata": {},
     "output_type": "execute_result"
    }
   ],
   "source": [
    "data.head(10)"
   ]
  },
  {
   "cell_type": "code",
   "execution_count": 27,
   "metadata": {},
   "outputs": [
    {
     "data": {
      "text/plain": [
       "1725115"
      ]
     },
     "execution_count": 27,
     "metadata": {},
     "output_type": "execute_result"
    }
   ],
   "source": [
    "data.shape[0]\n",
    "len(data)"
   ]
  },
  {
   "cell_type": "code",
   "execution_count": 7,
   "metadata": {},
   "outputs": [
    {
     "data": {
      "text/plain": [
       "86255.75"
      ]
     },
     "execution_count": 7,
     "metadata": {},
     "output_type": "execute_result"
    }
   ],
   "source": [
    "1725115/20\n"
   ]
  },
  {
   "cell_type": "code",
   "execution_count": 13,
   "metadata": {},
   "outputs": [
    {
     "name": "stdout",
     "output_type": "stream",
     "text": [
      "0\n",
      "86256\n",
      "172512\n",
      "258768\n",
      "345024\n",
      "431280\n",
      "517536\n",
      "603792\n",
      "690048\n",
      "776304\n",
      "862560\n",
      "948816\n",
      "1035072\n",
      "1121328\n",
      "1207584\n",
      "1293840\n",
      "1380096\n",
      "1466352\n",
      "1552608\n",
      "1638864\n",
      "1725120\n"
     ]
    }
   ],
   "source": [
    "for i in range(21):\n",
    "    x = i*86256\n",
    "    print(x)\n"
   ]
  },
  {
   "cell_type": "code",
   "execution_count": 28,
   "metadata": {},
   "outputs": [],
   "source": [
    "# dont judge me, for loops require thinking\n",
    "data1 = data.loc[(data['fid'] >= 0) & (data['fid'] <= 86256)]\n",
    "data2 = data.loc[(data['fid'] > 86256) & (data['fid'] <= 172512)]\n",
    "data3 = data.loc[(data['fid'] > 172512) & (data['fid'] <= 258768)]\n",
    "data4 = data.loc[(data['fid'] > 258768) & (data['fid'] <= 345024)]\n",
    "data5 = data.loc[(data['fid'] > 345024) & (data['fid'] <= 431280)]\n",
    "data6 = data.loc[(data['fid'] > 431280) & (data['fid'] <= 517536)]\n",
    "data7 = data.loc[(data['fid'] > 517536) & (data['fid'] <= 603792)]\n",
    "data8 = data.loc[(data['fid'] > 603792) & (data['fid'] <= 690048)]\n",
    "data9 = data.loc[(data['fid'] > 690048) & (data['fid'] <= 776304)]\n",
    "data10 = data.loc[(data['fid'] > 776304) & (data['fid'] <= 862560)]\n",
    "data11 = data.loc[(data['fid'] > 862560) & (data['fid'] <= 948816)]\n",
    "\n",
    "data12 = data.loc[(data['fid'] > 948816) & (data['fid'] <= 1035072)]\n",
    "data13 = data.loc[(data['fid'] > 1035072) & (data['fid'] <= 1121328)]\n",
    "data14 = data.loc[(data['fid'] > 1121328) & (data['fid'] <= 1207584)]\n",
    "data15 = data.loc[(data['fid'] > 1207584) & (data['fid'] <= 1293840)]\n",
    "\n",
    "data16 = data.loc[(data['fid'] > 1293840) & (data['fid'] <= 1380096)]\n",
    "data17 = data.loc[(data['fid'] > 1380096) & (data['fid'] <= 1466352)]\n",
    "data18 = data.loc[(data['fid'] > 1466352) & (data['fid'] <= 1552608)]\n",
    "data19 = data.loc[(data['fid'] > 1552608) & (data['fid'] <= 1638864)]\n",
    "data20 = data.loc[data['fid'] > 1638864]\n"
   ]
  },
  {
   "cell_type": "code",
   "execution_count": 29,
   "metadata": {},
   "outputs": [],
   "source": [
    "#data1.to_csv(index=False)\n",
    "data1.to_csv(r'/Users/billhuynh/Downloads/waterpolygon1.csv',index=False)"
   ]
  },
  {
   "cell_type": "code",
   "execution_count": 30,
   "metadata": {},
   "outputs": [
    {
     "data": {
      "text/html": [
       "<div>\n",
       "<style scoped>\n",
       "    .dataframe tbody tr th:only-of-type {\n",
       "        vertical-align: middle;\n",
       "    }\n",
       "\n",
       "    .dataframe tbody tr th {\n",
       "        vertical-align: top;\n",
       "    }\n",
       "\n",
       "    .dataframe thead th {\n",
       "        text-align: right;\n",
       "    }\n",
       "</style>\n",
       "<table border=\"1\" class=\"dataframe\">\n",
       "  <thead>\n",
       "    <tr style=\"text-align: right;\">\n",
       "      <th></th>\n",
       "      <th>WKT</th>\n",
       "      <th>fid</th>\n",
       "      <th>ID</th>\n",
       "      <th>AreaM2</th>\n",
       "      <th>FEATURETYP</th>\n",
       "    </tr>\n",
       "  </thead>\n",
       "  <tbody>\n",
       "    <tr>\n",
       "      <th>0</th>\n",
       "      <td>MULTIPOLYGON (((149.587854075616 -34.563394674...</td>\n",
       "      <td>1</td>\n",
       "      <td>405106.0</td>\n",
       "      <td>12937.88</td>\n",
       "      <td>Farm Dam Area</td>\n",
       "    </tr>\n",
       "    <tr>\n",
       "      <th>1</th>\n",
       "      <td>MULTIPOLYGON (((147.661886235962 -31.222102991...</td>\n",
       "      <td>2</td>\n",
       "      <td>405107.0</td>\n",
       "      <td>432027.63</td>\n",
       "      <td>Farm Dam Area</td>\n",
       "    </tr>\n",
       "    <tr>\n",
       "      <th>2</th>\n",
       "      <td>MULTIPOLYGON (((147.62002424048 -31.2314459878...</td>\n",
       "      <td>3</td>\n",
       "      <td>405108.0</td>\n",
       "      <td>599893.35</td>\n",
       "      <td>Farm Dam Area</td>\n",
       "    </tr>\n",
       "    <tr>\n",
       "      <th>3</th>\n",
       "      <td>MULTIPOLYGON (((147.985637117727 -31.911455021...</td>\n",
       "      <td>4</td>\n",
       "      <td>405109.0</td>\n",
       "      <td>289723.23</td>\n",
       "      <td>Farm Dam Area</td>\n",
       "    </tr>\n",
       "    <tr>\n",
       "      <th>4</th>\n",
       "      <td>MULTIPOLYGON (((147.5328092028 -31.69136948427...</td>\n",
       "      <td>5</td>\n",
       "      <td>405110.0</td>\n",
       "      <td>1144514.80</td>\n",
       "      <td>Farm Dam Area</td>\n",
       "    </tr>\n",
       "  </tbody>\n",
       "</table>\n",
       "</div>"
      ],
      "text/plain": [
       "                                                 WKT  fid        ID  \\\n",
       "0  MULTIPOLYGON (((149.587854075616 -34.563394674...    1  405106.0   \n",
       "1  MULTIPOLYGON (((147.661886235962 -31.222102991...    2  405107.0   \n",
       "2  MULTIPOLYGON (((147.62002424048 -31.2314459878...    3  405108.0   \n",
       "3  MULTIPOLYGON (((147.985637117727 -31.911455021...    4  405109.0   \n",
       "4  MULTIPOLYGON (((147.5328092028 -31.69136948427...    5  405110.0   \n",
       "\n",
       "       AreaM2     FEATURETYP  \n",
       "0    12937.88  Farm Dam Area  \n",
       "1   432027.63  Farm Dam Area  \n",
       "2   599893.35  Farm Dam Area  \n",
       "3   289723.23  Farm Dam Area  \n",
       "4  1144514.80  Farm Dam Area  "
      ]
     },
     "execution_count": 30,
     "metadata": {},
     "output_type": "execute_result"
    }
   ],
   "source": [
    "datatest = pd.read_csv('/Users/billhuynh/Downloads/waterpolygon1.csv')\n",
    "datatest.head(5)"
   ]
  },
  {
   "cell_type": "code",
   "execution_count": 31,
   "metadata": {},
   "outputs": [],
   "source": [
    "data2.to_csv(r'/Users/billhuynh/Downloads/waterpolygon2.csv',index=False)\n",
    "data3.to_csv(r'/Users/billhuynh/Downloads/waterpolygon3.csv',index=False)\n",
    "data4.to_csv(r'/Users/billhuynh/Downloads/waterpolygon4.csv',index=False)\n",
    "data5.to_csv(r'/Users/billhuynh/Downloads/waterpolygon5.csv',index=False)\n",
    "data6.to_csv(r'/Users/billhuynh/Downloads/waterpolygon6.csv',index=False)\n",
    "data7.to_csv(r'/Users/billhuynh/Downloads/waterpolygon7.csv',index=False)\n",
    "data8.to_csv(r'/Users/billhuynh/Downloads/waterpolygon8.csv',index=False)\n",
    "data9.to_csv(r'/Users/billhuynh/Downloads/waterpolygon9.csv',index=False)\n",
    "data10.to_csv(r'/Users/billhuynh/Downloads/waterpolygon10.csv',index=False)\n",
    "data11.to_csv(r'/Users/billhuynh/Downloads/waterpolygon11.csv',index=False)\n",
    "data12.to_csv(r'/Users/billhuynh/Downloads/waterpolygon12.csv',index=False)\n",
    "data13.to_csv(r'/Users/billhuynh/Downloads/waterpolygon13.csv',index=False)\n",
    "data14.to_csv(r'/Users/billhuynh/Downloads/waterpolygon14.csv',index=False)\n",
    "data15.to_csv(r'/Users/billhuynh/Downloads/waterpolygon15.csv',index=False)\n",
    "data16.to_csv(r'/Users/billhuynh/Downloads/waterpolygon16.csv',index=False)\n",
    "data17.to_csv(r'/Users/billhuynh/Downloads/waterpolygon17.csv',index=False)\n",
    "data18.to_csv(r'/Users/billhuynh/Downloads/waterpolygon18.csv',index=False)\n",
    "data19.to_csv(r'/Users/billhuynh/Downloads/waterpolygon19.csv',index=False)\n",
    "data20.to_csv(r'/Users/billhuynh/Downloads/waterpolygon20.csv',index=False)"
   ]
  },
  {
   "cell_type": "code",
   "execution_count": 32,
   "metadata": {},
   "outputs": [],
   "source": [
    "data1new = data.loc[(data['fid'] >= 0) & (data['fid'] <= 1000)]"
   ]
  },
  {
   "cell_type": "code",
   "execution_count": 33,
   "metadata": {},
   "outputs": [],
   "source": [
    "data1new.to_csv(r'/Users/billhuynh/Downloads/waterpolygonsmall.csv',index=False)"
   ]
  },
  {
   "cell_type": "code",
   "execution_count": null,
   "metadata": {},
   "outputs": [],
   "source": []
  }
 ],
 "metadata": {
  "kernelspec": {
   "display_name": "Python 3",
   "language": "python",
   "name": "python3"
  },
  "language_info": {
   "codemirror_mode": {
    "name": "ipython",
    "version": 3
   },
   "file_extension": ".py",
   "mimetype": "text/x-python",
   "name": "python",
   "nbconvert_exporter": "python",
   "pygments_lexer": "ipython3",
   "version": "3.8.5"
  }
 },
 "nbformat": 4,
 "nbformat_minor": 4
}
