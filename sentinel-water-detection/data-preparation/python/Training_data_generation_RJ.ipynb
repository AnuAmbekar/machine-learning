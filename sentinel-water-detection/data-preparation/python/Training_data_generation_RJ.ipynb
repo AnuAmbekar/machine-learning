{
 "cells": [
  {
   "cell_type": "code",
   "execution_count": 18,
   "id": "e764ddcc",
   "metadata": {},
   "outputs": [],
   "source": [
    "import pandas as pd\n",
    "import numpy as np\n",
    "import json\n",
    "from sklearn.model_selection import train_test_split"
   ]
  },
  {
   "cell_type": "code",
   "execution_count": 2,
   "id": "8fe05b27",
   "metadata": {},
   "outputs": [],
   "source": [
    "df = pd.read_csv('Full_data.csv')"
   ]
  },
  {
   "cell_type": "code",
   "execution_count": 3,
   "id": "66ce8afd",
   "metadata": {},
   "outputs": [
    {
     "data": {
      "text/html": [
       "<div>\n",
       "<style scoped>\n",
       "    .dataframe tbody tr th:only-of-type {\n",
       "        vertical-align: middle;\n",
       "    }\n",
       "\n",
       "    .dataframe tbody tr th {\n",
       "        vertical-align: top;\n",
       "    }\n",
       "\n",
       "    .dataframe thead th {\n",
       "        text-align: right;\n",
       "    }\n",
       "</style>\n",
       "<table border=\"1\" class=\"dataframe\">\n",
       "  <thead>\n",
       "    <tr style=\"text-align: right;\">\n",
       "      <th></th>\n",
       "      <th>B2</th>\n",
       "      <th>B3</th>\n",
       "      <th>B4</th>\n",
       "      <th>B8</th>\n",
       "      <th>class_3</th>\n",
       "      <th>class_2</th>\n",
       "      <th>.geo</th>\n",
       "      <th>Contributor</th>\n",
       "    </tr>\n",
       "  </thead>\n",
       "  <tbody>\n",
       "    <tr>\n",
       "      <th>0</th>\n",
       "      <td>1390.0</td>\n",
       "      <td>1388.0</td>\n",
       "      <td>1209.0</td>\n",
       "      <td>1546.0</td>\n",
       "      <td>0</td>\n",
       "      <td>0</td>\n",
       "      <td>{\"geodesic\":false,\"type\":\"Point\",\"coordinates\"...</td>\n",
       "      <td>AK</td>\n",
       "    </tr>\n",
       "    <tr>\n",
       "      <th>1</th>\n",
       "      <td>1429.0</td>\n",
       "      <td>1412.0</td>\n",
       "      <td>1365.0</td>\n",
       "      <td>2034.0</td>\n",
       "      <td>0</td>\n",
       "      <td>0</td>\n",
       "      <td>{\"geodesic\":false,\"type\":\"Point\",\"coordinates\"...</td>\n",
       "      <td>AK</td>\n",
       "    </tr>\n",
       "    <tr>\n",
       "      <th>2</th>\n",
       "      <td>1656.0</td>\n",
       "      <td>1681.0</td>\n",
       "      <td>1746.0</td>\n",
       "      <td>2707.0</td>\n",
       "      <td>0</td>\n",
       "      <td>0</td>\n",
       "      <td>{\"geodesic\":false,\"type\":\"Point\",\"coordinates\"...</td>\n",
       "      <td>AK</td>\n",
       "    </tr>\n",
       "    <tr>\n",
       "      <th>3</th>\n",
       "      <td>1556.0</td>\n",
       "      <td>1580.0</td>\n",
       "      <td>1796.0</td>\n",
       "      <td>2492.0</td>\n",
       "      <td>0</td>\n",
       "      <td>0</td>\n",
       "      <td>{\"geodesic\":false,\"type\":\"Point\",\"coordinates\"...</td>\n",
       "      <td>AK</td>\n",
       "    </tr>\n",
       "    <tr>\n",
       "      <th>4</th>\n",
       "      <td>1500.0</td>\n",
       "      <td>1457.0</td>\n",
       "      <td>1376.0</td>\n",
       "      <td>1907.0</td>\n",
       "      <td>0</td>\n",
       "      <td>0</td>\n",
       "      <td>{\"geodesic\":false,\"type\":\"Point\",\"coordinates\"...</td>\n",
       "      <td>AK</td>\n",
       "    </tr>\n",
       "  </tbody>\n",
       "</table>\n",
       "</div>"
      ],
      "text/plain": [
       "       B2      B3      B4      B8  class_3  class_2  \\\n",
       "0  1390.0  1388.0  1209.0  1546.0        0        0   \n",
       "1  1429.0  1412.0  1365.0  2034.0        0        0   \n",
       "2  1656.0  1681.0  1746.0  2707.0        0        0   \n",
       "3  1556.0  1580.0  1796.0  2492.0        0        0   \n",
       "4  1500.0  1457.0  1376.0  1907.0        0        0   \n",
       "\n",
       "                                                .geo Contributor  \n",
       "0  {\"geodesic\":false,\"type\":\"Point\",\"coordinates\"...          AK  \n",
       "1  {\"geodesic\":false,\"type\":\"Point\",\"coordinates\"...          AK  \n",
       "2  {\"geodesic\":false,\"type\":\"Point\",\"coordinates\"...          AK  \n",
       "3  {\"geodesic\":false,\"type\":\"Point\",\"coordinates\"...          AK  \n",
       "4  {\"geodesic\":false,\"type\":\"Point\",\"coordinates\"...          AK  "
      ]
     },
     "execution_count": 3,
     "metadata": {},
     "output_type": "execute_result"
    }
   ],
   "source": [
    "df.head()"
   ]
  },
  {
   "cell_type": "code",
   "execution_count": 11,
   "id": "67dc5ae2",
   "metadata": {},
   "outputs": [],
   "source": [
    "# Converting \".geo\" column to dict\n",
    "df['.geo'] = df['.geo'].apply(lambda x: json.loads(x))"
   ]
  },
  {
   "cell_type": "code",
   "execution_count": 15,
   "id": "26715f09",
   "metadata": {},
   "outputs": [],
   "source": [
    "# Extracting coordinates from .geo\n",
    "df['coordinates'] = df['.geo'].apply(lambda x: x['coordinates'])"
   ]
  },
  {
   "cell_type": "code",
   "execution_count": 16,
   "id": "5bc8098a",
   "metadata": {},
   "outputs": [
    {
     "data": {
      "text/html": [
       "<div>\n",
       "<style scoped>\n",
       "    .dataframe tbody tr th:only-of-type {\n",
       "        vertical-align: middle;\n",
       "    }\n",
       "\n",
       "    .dataframe tbody tr th {\n",
       "        vertical-align: top;\n",
       "    }\n",
       "\n",
       "    .dataframe thead th {\n",
       "        text-align: right;\n",
       "    }\n",
       "</style>\n",
       "<table border=\"1\" class=\"dataframe\">\n",
       "  <thead>\n",
       "    <tr style=\"text-align: right;\">\n",
       "      <th></th>\n",
       "      <th>B2</th>\n",
       "      <th>B3</th>\n",
       "      <th>B4</th>\n",
       "      <th>B8</th>\n",
       "      <th>class_3</th>\n",
       "      <th>class_2</th>\n",
       "      <th>.geo</th>\n",
       "      <th>Contributor</th>\n",
       "      <th>coordinates</th>\n",
       "    </tr>\n",
       "  </thead>\n",
       "  <tbody>\n",
       "    <tr>\n",
       "      <th>0</th>\n",
       "      <td>1390.0</td>\n",
       "      <td>1388.0</td>\n",
       "      <td>1209.0</td>\n",
       "      <td>1546.0</td>\n",
       "      <td>0</td>\n",
       "      <td>0</td>\n",
       "      <td>{'geodesic': False, 'type': 'Point', 'coordina...</td>\n",
       "      <td>AK</td>\n",
       "      <td>[152.34066271011642, -27.55424928861911]</td>\n",
       "    </tr>\n",
       "    <tr>\n",
       "      <th>1</th>\n",
       "      <td>1429.0</td>\n",
       "      <td>1412.0</td>\n",
       "      <td>1365.0</td>\n",
       "      <td>2034.0</td>\n",
       "      <td>0</td>\n",
       "      <td>0</td>\n",
       "      <td>{'geodesic': False, 'type': 'Point', 'coordina...</td>\n",
       "      <td>AK</td>\n",
       "      <td>[152.34057287858803, -27.554788277789584]</td>\n",
       "    </tr>\n",
       "    <tr>\n",
       "      <th>2</th>\n",
       "      <td>1656.0</td>\n",
       "      <td>1681.0</td>\n",
       "      <td>1746.0</td>\n",
       "      <td>2707.0</td>\n",
       "      <td>0</td>\n",
       "      <td>0</td>\n",
       "      <td>{'geodesic': False, 'type': 'Point', 'coordina...</td>\n",
       "      <td>AK</td>\n",
       "      <td>[152.34102203623007, -27.553530636391816]</td>\n",
       "    </tr>\n",
       "    <tr>\n",
       "      <th>3</th>\n",
       "      <td>1556.0</td>\n",
       "      <td>1580.0</td>\n",
       "      <td>1796.0</td>\n",
       "      <td>2492.0</td>\n",
       "      <td>0</td>\n",
       "      <td>0</td>\n",
       "      <td>{'geodesic': False, 'type': 'Point', 'coordina...</td>\n",
       "      <td>AK</td>\n",
       "      <td>[152.34057287858803, -27.553979794033875]</td>\n",
       "    </tr>\n",
       "    <tr>\n",
       "      <th>4</th>\n",
       "      <td>1500.0</td>\n",
       "      <td>1457.0</td>\n",
       "      <td>1376.0</td>\n",
       "      <td>1907.0</td>\n",
       "      <td>0</td>\n",
       "      <td>0</td>\n",
       "      <td>{'geodesic': False, 'type': 'Point', 'coordina...</td>\n",
       "      <td>AK</td>\n",
       "      <td>[152.34084237317325, -27.553800130977052]</td>\n",
       "    </tr>\n",
       "  </tbody>\n",
       "</table>\n",
       "</div>"
      ],
      "text/plain": [
       "       B2      B3      B4      B8  class_3  class_2  \\\n",
       "0  1390.0  1388.0  1209.0  1546.0        0        0   \n",
       "1  1429.0  1412.0  1365.0  2034.0        0        0   \n",
       "2  1656.0  1681.0  1746.0  2707.0        0        0   \n",
       "3  1556.0  1580.0  1796.0  2492.0        0        0   \n",
       "4  1500.0  1457.0  1376.0  1907.0        0        0   \n",
       "\n",
       "                                                .geo Contributor  \\\n",
       "0  {'geodesic': False, 'type': 'Point', 'coordina...          AK   \n",
       "1  {'geodesic': False, 'type': 'Point', 'coordina...          AK   \n",
       "2  {'geodesic': False, 'type': 'Point', 'coordina...          AK   \n",
       "3  {'geodesic': False, 'type': 'Point', 'coordina...          AK   \n",
       "4  {'geodesic': False, 'type': 'Point', 'coordina...          AK   \n",
       "\n",
       "                                 coordinates  \n",
       "0   [152.34066271011642, -27.55424928861911]  \n",
       "1  [152.34057287858803, -27.554788277789584]  \n",
       "2  [152.34102203623007, -27.553530636391816]  \n",
       "3  [152.34057287858803, -27.553979794033875]  \n",
       "4  [152.34084237317325, -27.553800130977052]  "
      ]
     },
     "execution_count": 16,
     "metadata": {},
     "output_type": "execute_result"
    }
   ],
   "source": [
    "df.head()"
   ]
  },
  {
   "cell_type": "markdown",
   "id": "b14ab597",
   "metadata": {},
   "source": [
    "### Train test split"
   ]
  },
  {
   "cell_type": "code",
   "execution_count": 41,
   "id": "727797f1",
   "metadata": {},
   "outputs": [],
   "source": [
    "df_train, df_test = train_test_split(df, test_size=0.2, random_state=42, stratify= df['class_3'])"
   ]
  },
  {
   "cell_type": "code",
   "execution_count": 42,
   "id": "16b0a91c",
   "metadata": {},
   "outputs": [
    {
     "data": {
      "text/html": [
       "<div>\n",
       "<style scoped>\n",
       "    .dataframe tbody tr th:only-of-type {\n",
       "        vertical-align: middle;\n",
       "    }\n",
       "\n",
       "    .dataframe tbody tr th {\n",
       "        vertical-align: top;\n",
       "    }\n",
       "\n",
       "    .dataframe thead th {\n",
       "        text-align: right;\n",
       "    }\n",
       "</style>\n",
       "<table border=\"1\" class=\"dataframe\">\n",
       "  <thead>\n",
       "    <tr style=\"text-align: right;\">\n",
       "      <th></th>\n",
       "      <th>B2</th>\n",
       "      <th>B3</th>\n",
       "      <th>B4</th>\n",
       "      <th>B8</th>\n",
       "      <th>class_3</th>\n",
       "      <th>class_2</th>\n",
       "      <th>.geo</th>\n",
       "      <th>Contributor</th>\n",
       "      <th>coordinates</th>\n",
       "    </tr>\n",
       "  </thead>\n",
       "  <tbody>\n",
       "    <tr>\n",
       "      <th>4505</th>\n",
       "      <td>1122.0</td>\n",
       "      <td>1440.0</td>\n",
       "      <td>1754.0</td>\n",
       "      <td>1960.0</td>\n",
       "      <td>2</td>\n",
       "      <td>1</td>\n",
       "      <td>{'geodesic': False, 'type': 'Point', 'coordina...</td>\n",
       "      <td>NK</td>\n",
       "      <td>[146.5644056016995, -38.182756404207645]</td>\n",
       "    </tr>\n",
       "    <tr>\n",
       "      <th>5067</th>\n",
       "      <td>450.0</td>\n",
       "      <td>766.0</td>\n",
       "      <td>1002.0</td>\n",
       "      <td>2248.0</td>\n",
       "      <td>2</td>\n",
       "      <td>1</td>\n",
       "      <td>{'geodesic': False, 'type': 'Point', 'coordina...</td>\n",
       "      <td>EG</td>\n",
       "      <td>[144.29930361279213, -36.75695038525314]</td>\n",
       "    </tr>\n",
       "    <tr>\n",
       "      <th>9</th>\n",
       "      <td>1323.0</td>\n",
       "      <td>1322.0</td>\n",
       "      <td>1153.0</td>\n",
       "      <td>1464.0</td>\n",
       "      <td>0</td>\n",
       "      <td>0</td>\n",
       "      <td>{'geodesic': False, 'type': 'Point', 'coordina...</td>\n",
       "      <td>AK</td>\n",
       "      <td>[152.34102203623007, -27.554339120147525]</td>\n",
       "    </tr>\n",
       "    <tr>\n",
       "      <th>2623</th>\n",
       "      <td>991.0</td>\n",
       "      <td>1278.0</td>\n",
       "      <td>1672.0</td>\n",
       "      <td>2608.0</td>\n",
       "      <td>1</td>\n",
       "      <td>1</td>\n",
       "      <td>{'geodesic': False, 'type': 'Point', 'coordina...</td>\n",
       "      <td>AK</td>\n",
       "      <td>[143.7278852605637, -37.910746536176255]</td>\n",
       "    </tr>\n",
       "    <tr>\n",
       "      <th>2104</th>\n",
       "      <td>1182.0</td>\n",
       "      <td>1596.0</td>\n",
       "      <td>2192.0</td>\n",
       "      <td>3113.0</td>\n",
       "      <td>1</td>\n",
       "      <td>1</td>\n",
       "      <td>{'geodesic': False, 'type': 'Point', 'coordina...</td>\n",
       "      <td>AK</td>\n",
       "      <td>[143.8925464521428, -37.95476398509811]</td>\n",
       "    </tr>\n",
       "  </tbody>\n",
       "</table>\n",
       "</div>"
      ],
      "text/plain": [
       "          B2      B3      B4      B8  class_3  class_2  \\\n",
       "4505  1122.0  1440.0  1754.0  1960.0        2        1   \n",
       "5067   450.0   766.0  1002.0  2248.0        2        1   \n",
       "9     1323.0  1322.0  1153.0  1464.0        0        0   \n",
       "2623   991.0  1278.0  1672.0  2608.0        1        1   \n",
       "2104  1182.0  1596.0  2192.0  3113.0        1        1   \n",
       "\n",
       "                                                   .geo Contributor  \\\n",
       "4505  {'geodesic': False, 'type': 'Point', 'coordina...          NK   \n",
       "5067  {'geodesic': False, 'type': 'Point', 'coordina...          EG   \n",
       "9     {'geodesic': False, 'type': 'Point', 'coordina...          AK   \n",
       "2623  {'geodesic': False, 'type': 'Point', 'coordina...          AK   \n",
       "2104  {'geodesic': False, 'type': 'Point', 'coordina...          AK   \n",
       "\n",
       "                                    coordinates  \n",
       "4505   [146.5644056016995, -38.182756404207645]  \n",
       "5067   [144.29930361279213, -36.75695038525314]  \n",
       "9     [152.34102203623007, -27.554339120147525]  \n",
       "2623   [143.7278852605637, -37.910746536176255]  \n",
       "2104    [143.8925464521428, -37.95476398509811]  "
      ]
     },
     "execution_count": 42,
     "metadata": {},
     "output_type": "execute_result"
    }
   ],
   "source": [
    "df_train.head()"
   ]
  },
  {
   "cell_type": "code",
   "execution_count": 43,
   "id": "43eb1bde",
   "metadata": {},
   "outputs": [
    {
     "name": "stdout",
     "output_type": "stream",
     "text": [
      "(4368, 9)\n"
     ]
    }
   ],
   "source": [
    "print(df_train.shape)"
   ]
  },
  {
   "cell_type": "code",
   "execution_count": 44,
   "id": "cf72860b",
   "metadata": {},
   "outputs": [
    {
     "data": {
      "text/html": [
       "<div>\n",
       "<style scoped>\n",
       "    .dataframe tbody tr th:only-of-type {\n",
       "        vertical-align: middle;\n",
       "    }\n",
       "\n",
       "    .dataframe tbody tr th {\n",
       "        vertical-align: top;\n",
       "    }\n",
       "\n",
       "    .dataframe thead th {\n",
       "        text-align: right;\n",
       "    }\n",
       "</style>\n",
       "<table border=\"1\" class=\"dataframe\">\n",
       "  <thead>\n",
       "    <tr style=\"text-align: right;\">\n",
       "      <th></th>\n",
       "      <th>B2</th>\n",
       "      <th>B3</th>\n",
       "      <th>B4</th>\n",
       "      <th>B8</th>\n",
       "      <th>class_3</th>\n",
       "      <th>class_2</th>\n",
       "      <th>.geo</th>\n",
       "      <th>Contributor</th>\n",
       "      <th>coordinates</th>\n",
       "    </tr>\n",
       "  </thead>\n",
       "  <tbody>\n",
       "    <tr>\n",
       "      <th>4260</th>\n",
       "      <td>283.0</td>\n",
       "      <td>780.0</td>\n",
       "      <td>727.0</td>\n",
       "      <td>3580.0</td>\n",
       "      <td>2</td>\n",
       "      <td>1</td>\n",
       "      <td>{'geodesic': False, 'type': 'Point', 'coordina...</td>\n",
       "      <td>MB</td>\n",
       "      <td>[144.25887942500674, -36.7634182552988]</td>\n",
       "    </tr>\n",
       "    <tr>\n",
       "      <th>391</th>\n",
       "      <td>1180.0</td>\n",
       "      <td>1474.0</td>\n",
       "      <td>1838.0</td>\n",
       "      <td>2488.0</td>\n",
       "      <td>0</td>\n",
       "      <td>0</td>\n",
       "      <td>{'geodesic': False, 'type': 'Point', 'coordina...</td>\n",
       "      <td>AK</td>\n",
       "      <td>[143.59385662017306, -37.98755249296847]</td>\n",
       "    </tr>\n",
       "    <tr>\n",
       "      <th>2137</th>\n",
       "      <td>1014.5</td>\n",
       "      <td>1283.0</td>\n",
       "      <td>1621.0</td>\n",
       "      <td>2593.0</td>\n",
       "      <td>1</td>\n",
       "      <td>1</td>\n",
       "      <td>{'geodesic': False, 'type': 'Point', 'coordina...</td>\n",
       "      <td>AK</td>\n",
       "      <td>[143.85553586243708, -37.94164858194996]</td>\n",
       "    </tr>\n",
       "    <tr>\n",
       "      <th>4787</th>\n",
       "      <td>504.5</td>\n",
       "      <td>782.5</td>\n",
       "      <td>1049.0</td>\n",
       "      <td>2591.0</td>\n",
       "      <td>2</td>\n",
       "      <td>1</td>\n",
       "      <td>{'geodesic': False, 'type': 'Point', 'coordina...</td>\n",
       "      <td>RJ</td>\n",
       "      <td>[141.59806955344473, -38.130294791615064]</td>\n",
       "    </tr>\n",
       "    <tr>\n",
       "      <th>3849</th>\n",
       "      <td>475.0</td>\n",
       "      <td>739.0</td>\n",
       "      <td>771.5</td>\n",
       "      <td>2585.5</td>\n",
       "      <td>2</td>\n",
       "      <td>1</td>\n",
       "      <td>{'geodesic': False, 'type': 'Point', 'coordina...</td>\n",
       "      <td>AK</td>\n",
       "      <td>[148.49533430491442, -37.748600627392676]</td>\n",
       "    </tr>\n",
       "  </tbody>\n",
       "</table>\n",
       "</div>"
      ],
      "text/plain": [
       "          B2      B3      B4      B8  class_3  class_2  \\\n",
       "4260   283.0   780.0   727.0  3580.0        2        1   \n",
       "391   1180.0  1474.0  1838.0  2488.0        0        0   \n",
       "2137  1014.5  1283.0  1621.0  2593.0        1        1   \n",
       "4787   504.5   782.5  1049.0  2591.0        2        1   \n",
       "3849   475.0   739.0   771.5  2585.5        2        1   \n",
       "\n",
       "                                                   .geo Contributor  \\\n",
       "4260  {'geodesic': False, 'type': 'Point', 'coordina...          MB   \n",
       "391   {'geodesic': False, 'type': 'Point', 'coordina...          AK   \n",
       "2137  {'geodesic': False, 'type': 'Point', 'coordina...          AK   \n",
       "4787  {'geodesic': False, 'type': 'Point', 'coordina...          RJ   \n",
       "3849  {'geodesic': False, 'type': 'Point', 'coordina...          AK   \n",
       "\n",
       "                                    coordinates  \n",
       "4260    [144.25887942500674, -36.7634182552988]  \n",
       "391    [143.59385662017306, -37.98755249296847]  \n",
       "2137   [143.85553586243708, -37.94164858194996]  \n",
       "4787  [141.59806955344473, -38.130294791615064]  \n",
       "3849  [148.49533430491442, -37.748600627392676]  "
      ]
     },
     "execution_count": 44,
     "metadata": {},
     "output_type": "execute_result"
    }
   ],
   "source": [
    "df_test.head()"
   ]
  },
  {
   "cell_type": "code",
   "execution_count": 45,
   "id": "c86c31ee",
   "metadata": {},
   "outputs": [
    {
     "data": {
      "text/plain": [
       "(1092, 9)"
      ]
     },
     "execution_count": 45,
     "metadata": {},
     "output_type": "execute_result"
    }
   ],
   "source": [
    "df_test.shape"
   ]
  },
  {
   "cell_type": "code",
   "execution_count": 46,
   "id": "52cf619c",
   "metadata": {},
   "outputs": [
    {
     "data": {
      "text/plain": [
       "1    0.666667\n",
       "0    0.333333\n",
       "Name: class_2, dtype: float64"
      ]
     },
     "execution_count": 46,
     "metadata": {},
     "output_type": "execute_result"
    }
   ],
   "source": [
    "df['class_2'].value_counts(normalize=True)"
   ]
  },
  {
   "cell_type": "code",
   "execution_count": 40,
   "id": "64e177f9",
   "metadata": {},
   "outputs": [
    {
     "data": {
      "text/plain": [
       "0    0.333333\n",
       "1    0.333333\n",
       "2    0.333333\n",
       "Name: class_3, dtype: float64"
      ]
     },
     "execution_count": 40,
     "metadata": {},
     "output_type": "execute_result"
    }
   ],
   "source": [
    "df['class_3'].value_counts(normalize=True)"
   ]
  },
  {
   "cell_type": "code",
   "execution_count": 47,
   "id": "c05a3f41",
   "metadata": {},
   "outputs": [
    {
     "data": {
      "text/plain": [
       "0    0.333333\n",
       "1    0.333333\n",
       "2    0.333333\n",
       "Name: class_3, dtype: float64"
      ]
     },
     "execution_count": 47,
     "metadata": {},
     "output_type": "execute_result"
    }
   ],
   "source": [
    "df_train['class_3'].value_counts(normalize=True)"
   ]
  },
  {
   "cell_type": "code",
   "execution_count": 49,
   "id": "5bd334a4",
   "metadata": {},
   "outputs": [],
   "source": [
    "# Exporting train and test sets to csv files\n",
    "\n",
    "df_train.to_csv('train_data.csv', index = False)\n",
    "df_test.to_csv('test_data.csv', index = False)"
   ]
  },
  {
   "cell_type": "code",
   "execution_count": null,
   "id": "c53db15b",
   "metadata": {},
   "outputs": [],
   "source": []
  }
 ],
 "metadata": {
  "kernelspec": {
   "display_name": "Python 3",
   "language": "python",
   "name": "python3"
  },
  "language_info": {
   "codemirror_mode": {
    "name": "ipython",
    "version": 3
   },
   "file_extension": ".py",
   "mimetype": "text/x-python",
   "name": "python",
   "nbconvert_exporter": "python",
   "pygments_lexer": "ipython3",
   "version": "3.8.8"
  }
 },
 "nbformat": 4,
 "nbformat_minor": 5
}
