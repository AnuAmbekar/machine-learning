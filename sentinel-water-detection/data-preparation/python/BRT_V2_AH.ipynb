{
 "cells": [
  {
   "cell_type": "code",
   "execution_count": 1,
   "metadata": {},
   "outputs": [],
   "source": [
    "#reference https://stackabuse.com/gradient-boosting-classifiers-in-python-with-scikit-learn/\n",
    "\n",
    "#importing libraries\n",
    "import pandas as pd\n",
    "from sklearn.preprocessing import MinMaxScaler\n",
    "from sklearn.model_selection import train_test_split\n",
    "from sklearn.metrics import classification_report, confusion_matrix\n",
    "from sklearn.ensemble import GradientBoostingClassifier\n",
    "from sklearn.tree import DecisionTreeClassifier"
   ]
  },
  {
   "cell_type": "code",
   "execution_count": 2,
   "metadata": {},
   "outputs": [],
   "source": [
    "# importing data\n",
    "    # saving paths as a variable\n",
    "water_path='D:\\\\SIT764\\\\Data\\\\water.csv'\n",
    "veg_path = 'D:\\\\SIT764\\\\Data\\\\veg.csv'\n",
    "#reading in water\n",
    "water = pd.read_csv(water_path)\n",
    "#reading in vegitation values\n",
    "veg = pd.read_csv(veg_path)"
   ]
  },
  {
   "cell_type": "code",
   "execution_count": 3,
   "metadata": {},
   "outputs": [
    {
     "data": {
      "text/plain": [
       "Ref              0\n",
       "Sites         8008\n",
       "date             0\n",
       "Band_1           0\n",
       "Band_2           0\n",
       "Band_3           0\n",
       "Band_4           0\n",
       "Band_5           0\n",
       "Band_6           0\n",
       "Band_7           0\n",
       "Band_8           0\n",
       "Band_9           0\n",
       "Band_B8A         0\n",
       "Band_11          0\n",
       "Band_12          0\n",
       "Area_in_m2       0\n",
       "dtype: int64"
      ]
     },
     "execution_count": 3,
     "metadata": {},
     "output_type": "execute_result"
    }
   ],
   "source": [
    " #check for any missing values\n",
    "#water\n",
    "water.isnull().sum()\n",
    "\n",
    "#vegitation\n",
    "veg.isnull().sum()\n",
    "\n",
    "\n",
    "#every site is noted as a missing (which it is)"
   ]
  },
  {
   "cell_type": "code",
   "execution_count": 4,
   "metadata": {},
   "outputs": [
    {
     "name": "stdout",
     "output_type": "stream",
     "text": [
      "          Band_1       Band_2       Band_3       Band_4       Band_5  \\\n",
      "0     613.000000   836.000000  1169.000000  1440.000000  1854.000000   \n",
      "1     580.708609   731.794702  1026.754967  1381.245033  1649.377483   \n",
      "2     803.000000  1071.500000  1392.000000  1811.500000  2147.600000   \n",
      "3     677.333333   845.636364  1112.757576  1499.939394  1740.060606   \n",
      "4     761.604167   941.020833  1234.083333  1664.875000  1948.333333   \n",
      "...          ...          ...          ...          ...          ...   \n",
      "7959  368.125000   666.107143  1048.178571  1353.482143  1972.250000   \n",
      "7960  987.000000  1310.000000  1825.000000  2571.000000  2932.000000   \n",
      "7961  826.000000   932.000000  1291.000000  1743.000000  2064.000000   \n",
      "7962  840.500000  1077.500000  1489.000000  2079.000000  2420.000000   \n",
      "7963  778.292683   898.097561  1262.975610  1764.048780  2048.024390   \n",
      "\n",
      "           Band_6       Band_7       Band_8       Band_9     Band_B8A  \\\n",
      "0     2289.000000  2532.000000  2684.000000  2568.000000  2801.000000   \n",
      "1     1842.754967  1977.529801  2086.867550  2240.105960  2194.576159   \n",
      "2     2304.400000  2503.300000  2624.000000  2596.400000  2707.800000   \n",
      "3     1879.969697  2035.030303  2198.181818  2303.030303  2309.060606   \n",
      "4     2070.041667  2248.041667  2414.916667  2543.250000  2552.416667   \n",
      "...           ...          ...          ...          ...          ...   \n",
      "7959  2593.089286  3033.785714  3297.660714  3916.285714  3523.250000   \n",
      "7960  3073.000000  3330.000000  3504.000000  3804.000000  3688.000000   \n",
      "7961  2213.000000  2459.000000  2522.000000  3153.000000  2783.000000   \n",
      "7962  2669.000000  2945.000000  3135.500000  3386.500000  3384.000000   \n",
      "7963  2198.951220  2386.731707  2534.121951  3093.756098  2734.365854   \n",
      "\n",
      "          Band_11      Band_12 Confirm  \n",
      "0     2996.000000  2211.000000       1  \n",
      "1     2983.443709  2115.158940       1  \n",
      "2     3037.500000  2419.500000       1  \n",
      "3     3702.151515  2896.575758       1  \n",
      "4     4065.666667  3109.979167       1  \n",
      "...           ...          ...     ...  \n",
      "7959  3515.071429  2175.214286       1  \n",
      "7960  4902.000000  3453.000000       1  \n",
      "7961  4107.000000  2862.000000       1  \n",
      "7962  4686.500000  3252.500000       1  \n",
      "7963  3965.975610  2709.439024       1  \n",
      "\n",
      "[7964 rows x 13 columns]\n"
     ]
    }
   ],
   "source": [
    "#only interested in the band values\n",
    "#dropping Sites, date, Area, and Ref\n",
    "water = water.drop(columns=['Sites', 'date', 'Area_in_m2', 'Ref'])\n",
    "#adding a column to indicate that this is water\n",
    "water['Confirm'] = '1'\n",
    "                   \n",
    "print(water)"
   ]
  },
  {
   "cell_type": "code",
   "execution_count": 5,
   "metadata": {},
   "outputs": [
    {
     "name": "stdout",
     "output_type": "stream",
     "text": [
      "          Band_1       Band_2       Band_3       Band_4       Band_5  \\\n",
      "0     594.334807   786.925967  1112.235359  1506.828729  1808.443094   \n",
      "1     591.610082   775.045960  1069.176427  1458.707191  1687.608599   \n",
      "2     730.091182   921.303607  1198.490982  1522.146293  1831.053106   \n",
      "3     672.420395   827.574402  1096.499480  1489.383975  1740.017690   \n",
      "4     758.236043   945.776690  1236.026445  1663.329089  1948.113614   \n",
      "...          ...          ...          ...          ...          ...   \n",
      "8003  361.832536   654.944498  1032.387560  1356.384689  1976.647847   \n",
      "8004  919.325633  1209.063806  1677.476348  2391.598460  2761.334433   \n",
      "8005  826.894213  1018.692586  1400.960217  1960.462929  2317.031646   \n",
      "8006  831.192568  1055.453829  1462.176802  2078.903153  2419.920045   \n",
      "8007  787.432234   954.323260  1320.510073  1879.061355  2186.828755   \n",
      "\n",
      "           Band_6       Band_7       Band_8       Band_9     Band_B8A  \\\n",
      "0     2079.916022  2263.478453  2422.762431  2492.498343  2546.788950   \n",
      "1     1849.265382  1993.198666  2102.702001  2229.610082  2224.716086   \n",
      "2     2059.062124  2228.054108  2370.571142  2425.115230  2494.415832   \n",
      "3     1895.946930  2062.627471  2226.881374  2351.263267  2348.517170   \n",
      "4     2074.013712  2251.395690  2417.550441  2548.786484  2555.540646   \n",
      "...           ...          ...          ...          ...          ...   \n",
      "8003  2623.706220  3071.783732  3357.309091  3924.166507  3598.713876   \n",
      "8004  2953.401540  3220.903190  3417.745875  3708.986799  3679.442244   \n",
      "8005  2571.831826  2829.377034  2991.905967  3284.636528  3253.086799   \n",
      "8006  2643.443694  2914.251126  3112.177928  3355.563063  3367.271396   \n",
      "8007  2367.923993  2581.980769  2757.460623  3155.043956  2988.793040   \n",
      "\n",
      "          Band_11      Band_12 Confirm  \n",
      "0     3305.911602  2429.134807       0  \n",
      "1     3145.601927  2254.571534       0  \n",
      "2     3477.727455  2716.368737       0  \n",
      "3     3718.417274  2897.115505       0  \n",
      "4     4084.177277  3120.128306       0  \n",
      "...           ...          ...     ...  \n",
      "8003  3550.253589  2170.222010       0  \n",
      "8004  4913.478548  3353.458746       0  \n",
      "8005  4568.415913  3146.480108       0  \n",
      "8006  4750.781532  3265.893018       0  \n",
      "8007  4476.346154  3060.681319       0  \n",
      "\n",
      "[8008 rows x 13 columns]\n"
     ]
    }
   ],
   "source": [
    "#only interested in the band values\n",
    "\n",
    "#dropping Sites, date, Area, and Ref\n",
    "veg = veg.drop(columns=['Sites', 'date', 'Area_in_m2', 'Ref'])\n",
    "#adding a column to indicate that this is water\n",
    "veg['Confirm'] = '0'\n",
    "                   \n",
    "print(veg)"
   ]
  },
  {
   "cell_type": "code",
   "execution_count": 6,
   "metadata": {},
   "outputs": [],
   "source": [
    "#combining dataframes \n",
    "combined_data = pd.concat([water, veg], axis=0)"
   ]
  },
  {
   "cell_type": "code",
   "execution_count": 7,
   "metadata": {},
   "outputs": [
    {
     "name": "stdout",
     "output_type": "stream",
     "text": [
      "          Band_1       Band_2       Band_3       Band_4       Band_5  \\\n",
      "0     613.000000   836.000000  1169.000000  1440.000000  1854.000000   \n",
      "1     580.708609   731.794702  1026.754967  1381.245033  1649.377483   \n",
      "2     803.000000  1071.500000  1392.000000  1811.500000  2147.600000   \n",
      "3     677.333333   845.636364  1112.757576  1499.939394  1740.060606   \n",
      "4     761.604167   941.020833  1234.083333  1664.875000  1948.333333   \n",
      "...          ...          ...          ...          ...          ...   \n",
      "8003  361.832536   654.944498  1032.387560  1356.384689  1976.647847   \n",
      "8004  919.325633  1209.063806  1677.476348  2391.598460  2761.334433   \n",
      "8005  826.894213  1018.692586  1400.960217  1960.462929  2317.031646   \n",
      "8006  831.192568  1055.453829  1462.176802  2078.903153  2419.920045   \n",
      "8007  787.432234   954.323260  1320.510073  1879.061355  2186.828755   \n",
      "\n",
      "           Band_6       Band_7       Band_8       Band_9     Band_B8A  \\\n",
      "0     2289.000000  2532.000000  2684.000000  2568.000000  2801.000000   \n",
      "1     1842.754967  1977.529801  2086.867550  2240.105960  2194.576159   \n",
      "2     2304.400000  2503.300000  2624.000000  2596.400000  2707.800000   \n",
      "3     1879.969697  2035.030303  2198.181818  2303.030303  2309.060606   \n",
      "4     2070.041667  2248.041667  2414.916667  2543.250000  2552.416667   \n",
      "...           ...          ...          ...          ...          ...   \n",
      "8003  2623.706220  3071.783732  3357.309091  3924.166507  3598.713876   \n",
      "8004  2953.401540  3220.903190  3417.745875  3708.986799  3679.442244   \n",
      "8005  2571.831826  2829.377034  2991.905967  3284.636528  3253.086799   \n",
      "8006  2643.443694  2914.251126  3112.177928  3355.563063  3367.271396   \n",
      "8007  2367.923993  2581.980769  2757.460623  3155.043956  2988.793040   \n",
      "\n",
      "          Band_11      Band_12 Confirm  \n",
      "0     2996.000000  2211.000000       1  \n",
      "1     2983.443709  2115.158940       1  \n",
      "2     3037.500000  2419.500000       1  \n",
      "3     3702.151515  2896.575758       1  \n",
      "4     4065.666667  3109.979167       1  \n",
      "...           ...          ...     ...  \n",
      "8003  3550.253589  2170.222010       0  \n",
      "8004  4913.478548  3353.458746       0  \n",
      "8005  4568.415913  3146.480108       0  \n",
      "8006  4750.781532  3265.893018       0  \n",
      "8007  4476.346154  3060.681319       0  \n",
      "\n",
      "[15972 rows x 13 columns]\n"
     ]
    }
   ],
   "source": [
    "#checking the combined data\n",
    "print(combined_data)"
   ]
  },
  {
   "cell_type": "code",
   "execution_count": 8,
   "metadata": {},
   "outputs": [],
   "source": [
    "#splitting X and Y data\n",
    "\n",
    "X, y = combined_data[['Band_1', 'Band_2', 'Band_3', 'Band_4', 'Band_5', 'Band_6', 'Band_7', 'Band_8', 'Band_9', 'Band_B8A', 'Band_11', 'Band_12']], combined_data[['Confirm']]"
   ]
  },
  {
   "cell_type": "code",
   "execution_count": 9,
   "metadata": {},
   "outputs": [],
   "source": [
    "#Scaling data \n",
    "\n",
    "scaler = MinMaxScaler()\n",
    "X = scaler.fit_transform(X)"
   ]
  },
  {
   "cell_type": "code",
   "execution_count": 11,
   "metadata": {},
   "outputs": [],
   "source": [
    "#renaming variable for model - this can be removed \n",
    "\n",
    "full_data = combined_data"
   ]
  },
  {
   "cell_type": "code",
   "execution_count": 14,
   "metadata": {},
   "outputs": [],
   "source": [
    "#Splitting data \n",
    "\n",
    "state = 12  \n",
    "test_size = 0.30  \n",
    "  \n",
    "X_train, X_val, y_train, y_val = train_test_split(X, y,  \n",
    "    test_size=test_size, random_state=state, shuffle = True)"
   ]
  },
  {
   "cell_type": "code",
   "execution_count": 15,
   "metadata": {},
   "outputs": [
    {
     "name": "stderr",
     "output_type": "stream",
     "text": [
      "C:\\Users\\MrAndrewHallam\\anaconda3\\lib\\site-packages\\sklearn\\ensemble\\_gb.py:1454: DataConversionWarning: A column-vector y was passed when a 1d array was expected. Please change the shape of y to (n_samples, ), for example using ravel().\n",
      "  y = column_or_1d(y, warn=True)\n",
      "C:\\Users\\MrAndrewHallam\\anaconda3\\lib\\site-packages\\sklearn\\ensemble\\_gb.py:1454: DataConversionWarning: A column-vector y was passed when a 1d array was expected. Please change the shape of y to (n_samples, ), for example using ravel().\n",
      "  y = column_or_1d(y, warn=True)\n"
     ]
    },
    {
     "name": "stdout",
     "output_type": "stream",
     "text": [
      "Learning rate:  0.05\n",
      "Accuracy score (training): 0.590\n",
      "Accuracy score (validation): 0.594\n",
      "Learning rate:  0.075\n",
      "Accuracy score (training): 0.594\n",
      "Accuracy score (validation): 0.600\n",
      "Learning rate:  0.1\n",
      "Accuracy score (training): 0.619\n",
      "Accuracy score (validation): 0.627\n"
     ]
    },
    {
     "name": "stderr",
     "output_type": "stream",
     "text": [
      "C:\\Users\\MrAndrewHallam\\anaconda3\\lib\\site-packages\\sklearn\\ensemble\\_gb.py:1454: DataConversionWarning: A column-vector y was passed when a 1d array was expected. Please change the shape of y to (n_samples, ), for example using ravel().\n",
      "  y = column_or_1d(y, warn=True)\n",
      "C:\\Users\\MrAndrewHallam\\anaconda3\\lib\\site-packages\\sklearn\\ensemble\\_gb.py:1454: DataConversionWarning: A column-vector y was passed when a 1d array was expected. Please change the shape of y to (n_samples, ), for example using ravel().\n",
      "  y = column_or_1d(y, warn=True)\n"
     ]
    },
    {
     "name": "stdout",
     "output_type": "stream",
     "text": [
      "Learning rate:  0.25\n",
      "Accuracy score (training): 0.653\n",
      "Accuracy score (validation): 0.637\n",
      "Learning rate:  0.5\n",
      "Accuracy score (training): 0.662"
     ]
    },
    {
     "name": "stderr",
     "output_type": "stream",
     "text": [
      "C:\\Users\\MrAndrewHallam\\anaconda3\\lib\\site-packages\\sklearn\\ensemble\\_gb.py:1454: DataConversionWarning: A column-vector y was passed when a 1d array was expected. Please change the shape of y to (n_samples, ), for example using ravel().\n",
      "  y = column_or_1d(y, warn=True)\n",
      "C:\\Users\\MrAndrewHallam\\anaconda3\\lib\\site-packages\\sklearn\\ensemble\\_gb.py:1454: DataConversionWarning: A column-vector y was passed when a 1d array was expected. Please change the shape of y to (n_samples, ), for example using ravel().\n",
      "  y = column_or_1d(y, warn=True)\n"
     ]
    },
    {
     "name": "stdout",
     "output_type": "stream",
     "text": [
      "\n",
      "Accuracy score (validation): 0.640\n",
      "Learning rate:  0.75\n",
      "Accuracy score (training): 0.672\n",
      "Accuracy score (validation): 0.644\n",
      "Learning rate:  1\n",
      "Accuracy score (training): 0.682\n",
      "Accuracy score (validation): 0.641\n"
     ]
    },
    {
     "name": "stderr",
     "output_type": "stream",
     "text": [
      "C:\\Users\\MrAndrewHallam\\anaconda3\\lib\\site-packages\\sklearn\\ensemble\\_gb.py:1454: DataConversionWarning: A column-vector y was passed when a 1d array was expected. Please change the shape of y to (n_samples, ), for example using ravel().\n",
      "  y = column_or_1d(y, warn=True)\n"
     ]
    }
   ],
   "source": [
    "#testing different learning rates for boosted regression tree \n",
    "\n",
    "lr_list = [0.05, 0.075, 0.1, 0.25, 0.5, 0.75, 1]\n",
    "\n",
    "#learning rate (lr) determines the contribution of each tree to the growing model\n",
    "\n",
    "for learning_rate in lr_list:\n",
    "    gb_clf = GradientBoostingClassifier(n_estimators=20, learning_rate=learning_rate, max_features=2, max_depth=2, random_state=0)\n",
    "    gb_clf.fit(X_train, y_train)\n",
    "\n",
    "    print(\"Learning rate: \", learning_rate)\n",
    "    print(\"Accuracy score (training): {0:.3f}\".format(gb_clf.score(X_train, y_train)))\n",
    "    print(\"Accuracy score (validation): {0:.3f}\".format(gb_clf.score(X_val, y_val)))"
   ]
  },
  {
   "cell_type": "code",
   "execution_count": 16,
   "metadata": {},
   "outputs": [
    {
     "data": {
      "text/plain": [
       "DecisionTreeClassifier(ccp_alpha=0.0, class_weight=None, criterion='gini',\n",
       "                       max_depth=None, max_features=None, max_leaf_nodes=None,\n",
       "                       min_impurity_decrease=0.0, min_impurity_split=None,\n",
       "                       min_samples_leaf=1, min_samples_split=2,\n",
       "                       min_weight_fraction_leaf=0.0, presort='deprecated',\n",
       "                       random_state=None, splitter='best')"
      ]
     },
     "execution_count": 16,
     "metadata": {},
     "output_type": "execute_result"
    }
   ],
   "source": [
    "#running regular decision tree to compare values \n",
    "\n",
    "clf = DecisionTreeClassifier()\n",
    "clf.fit(X_train, y_train)\n",
    "\n"
   ]
  },
  {
   "cell_type": "code",
   "execution_count": 17,
   "metadata": {},
   "outputs": [],
   "source": [
    "prd = clf.predict(X_val)"
   ]
  },
  {
   "cell_type": "code",
   "execution_count": 18,
   "metadata": {},
   "outputs": [
    {
     "name": "stdout",
     "output_type": "stream",
     "text": [
      "              precision    recall  f1-score   support\n",
      "\n",
      "           0       0.66      0.66      0.66      2429\n",
      "           1       0.65      0.65      0.65      2363\n",
      "\n",
      "    accuracy                           0.66      4792\n",
      "   macro avg       0.66      0.66      0.66      4792\n",
      "weighted avg       0.66      0.66      0.66      4792\n",
      "\n"
     ]
    }
   ],
   "source": [
    "#printing values to compare to above boosted regression tree \n",
    "\n",
    "print(classification_report(prd, y_val))\n"
   ]
  }
 ],
 "metadata": {
  "kernelspec": {
   "display_name": "Python 3",
   "language": "python",
   "name": "python3"
  },
  "language_info": {
   "codemirror_mode": {
    "name": "ipython",
    "version": 3
   },
   "file_extension": ".py",
   "mimetype": "text/x-python",
   "name": "python",
   "nbconvert_exporter": "python",
   "pygments_lexer": "ipython3",
   "version": "3.7.6"
  }
 },
 "nbformat": 4,
 "nbformat_minor": 4
}
