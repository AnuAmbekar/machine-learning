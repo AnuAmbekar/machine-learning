{
 "cells": [
  {
   "cell_type": "markdown",
   "metadata": {},
   "source": [
    "# Classification of SENTINEL 2 into Water/Not Water\n",
    "\n",
    "In this notebook, we will use the extracted pixels data from the GEE to train and evaluate a decision tree classifier."
   ]
  },
  {
   "cell_type": "code",
   "execution_count": 1,
   "metadata": {},
   "outputs": [],
   "source": [
    "# Imports\n",
    "import pandas as pd\n",
    "from sklearn.preprocessing import MinMaxScaler\n",
    "from sklearn.metrics import classification_report, confusion_matrix\n",
    "from sklearn.tree import DecisionTreeClassifier\n",
    "import os\n",
    "import numpy as np"
   ]
  },
  {
   "cell_type": "markdown",
   "metadata": {},
   "source": [
    "## Data Preparation"
   ]
  },
  {
   "cell_type": "code",
   "execution_count": 2,
   "metadata": {},
   "outputs": [],
   "source": [
    "# Read the data\n",
    "DATA_PATH = '../../data-preparation/data/final-data/'"
   ]
  },
  {
   "cell_type": "code",
   "execution_count": 3,
   "metadata": {},
   "outputs": [
    {
     "data": {
      "text/html": [
       "<div>\n",
       "<style scoped>\n",
       "    .dataframe tbody tr th:only-of-type {\n",
       "        vertical-align: middle;\n",
       "    }\n",
       "\n",
       "    .dataframe tbody tr th {\n",
       "        vertical-align: top;\n",
       "    }\n",
       "\n",
       "    .dataframe thead th {\n",
       "        text-align: right;\n",
       "    }\n",
       "</style>\n",
       "<table border=\"1\" class=\"dataframe\">\n",
       "  <thead>\n",
       "    <tr style=\"text-align: right;\">\n",
       "      <th></th>\n",
       "      <th>B2</th>\n",
       "      <th>B3</th>\n",
       "      <th>B4</th>\n",
       "      <th>B8</th>\n",
       "      <th>class_3</th>\n",
       "      <th>class_2</th>\n",
       "      <th>.geo</th>\n",
       "      <th>Contributor</th>\n",
       "      <th>coordinates</th>\n",
       "    </tr>\n",
       "  </thead>\n",
       "  <tbody>\n",
       "    <tr>\n",
       "      <th>0</th>\n",
       "      <td>1122.0</td>\n",
       "      <td>1440.0</td>\n",
       "      <td>1754.0</td>\n",
       "      <td>1960.0</td>\n",
       "      <td>2</td>\n",
       "      <td>1</td>\n",
       "      <td>{'geodesic': False, 'type': 'Point', 'coordina...</td>\n",
       "      <td>NK</td>\n",
       "      <td>[146.5644056016995, -38.182756404207645]</td>\n",
       "    </tr>\n",
       "    <tr>\n",
       "      <th>1</th>\n",
       "      <td>450.0</td>\n",
       "      <td>766.0</td>\n",
       "      <td>1002.0</td>\n",
       "      <td>2248.0</td>\n",
       "      <td>2</td>\n",
       "      <td>1</td>\n",
       "      <td>{'geodesic': False, 'type': 'Point', 'coordina...</td>\n",
       "      <td>EG</td>\n",
       "      <td>[144.29930361279213, -36.75695038525314]</td>\n",
       "    </tr>\n",
       "    <tr>\n",
       "      <th>2</th>\n",
       "      <td>1323.0</td>\n",
       "      <td>1322.0</td>\n",
       "      <td>1153.0</td>\n",
       "      <td>1464.0</td>\n",
       "      <td>0</td>\n",
       "      <td>0</td>\n",
       "      <td>{'geodesic': False, 'type': 'Point', 'coordina...</td>\n",
       "      <td>AK</td>\n",
       "      <td>[152.34102203623007, -27.554339120147525]</td>\n",
       "    </tr>\n",
       "    <tr>\n",
       "      <th>3</th>\n",
       "      <td>991.0</td>\n",
       "      <td>1278.0</td>\n",
       "      <td>1672.0</td>\n",
       "      <td>2608.0</td>\n",
       "      <td>1</td>\n",
       "      <td>1</td>\n",
       "      <td>{'geodesic': False, 'type': 'Point', 'coordina...</td>\n",
       "      <td>AK</td>\n",
       "      <td>[143.7278852605637, -37.910746536176255]</td>\n",
       "    </tr>\n",
       "    <tr>\n",
       "      <th>4</th>\n",
       "      <td>1182.0</td>\n",
       "      <td>1596.0</td>\n",
       "      <td>2192.0</td>\n",
       "      <td>3113.0</td>\n",
       "      <td>1</td>\n",
       "      <td>1</td>\n",
       "      <td>{'geodesic': False, 'type': 'Point', 'coordina...</td>\n",
       "      <td>AK</td>\n",
       "      <td>[143.8925464521428, -37.95476398509811]</td>\n",
       "    </tr>\n",
       "  </tbody>\n",
       "</table>\n",
       "</div>"
      ],
      "text/plain": [
       "       B2      B3      B4      B8  class_3  class_2  \\\n",
       "0  1122.0  1440.0  1754.0  1960.0        2        1   \n",
       "1   450.0   766.0  1002.0  2248.0        2        1   \n",
       "2  1323.0  1322.0  1153.0  1464.0        0        0   \n",
       "3   991.0  1278.0  1672.0  2608.0        1        1   \n",
       "4  1182.0  1596.0  2192.0  3113.0        1        1   \n",
       "\n",
       "                                                .geo Contributor  \\\n",
       "0  {'geodesic': False, 'type': 'Point', 'coordina...          NK   \n",
       "1  {'geodesic': False, 'type': 'Point', 'coordina...          EG   \n",
       "2  {'geodesic': False, 'type': 'Point', 'coordina...          AK   \n",
       "3  {'geodesic': False, 'type': 'Point', 'coordina...          AK   \n",
       "4  {'geodesic': False, 'type': 'Point', 'coordina...          AK   \n",
       "\n",
       "                                 coordinates  \n",
       "0   [146.5644056016995, -38.182756404207645]  \n",
       "1   [144.29930361279213, -36.75695038525314]  \n",
       "2  [152.34102203623007, -27.554339120147525]  \n",
       "3   [143.7278852605637, -37.910746536176255]  \n",
       "4    [143.8925464521428, -37.95476398509811]  "
      ]
     },
     "execution_count": 3,
     "metadata": {},
     "output_type": "execute_result"
    }
   ],
   "source": [
    "TRAIN_DATA_PATH = os.path.join(DATA_PATH, \"train_data.csv\")\n",
    "df_train = pd.read_csv(TRAIN_DATA_PATH)\n",
    "df_train.head()"
   ]
  },
  {
   "cell_type": "code",
   "execution_count": 4,
   "metadata": {},
   "outputs": [
    {
     "data": {
      "text/html": [
       "<div>\n",
       "<style scoped>\n",
       "    .dataframe tbody tr th:only-of-type {\n",
       "        vertical-align: middle;\n",
       "    }\n",
       "\n",
       "    .dataframe tbody tr th {\n",
       "        vertical-align: top;\n",
       "    }\n",
       "\n",
       "    .dataframe thead th {\n",
       "        text-align: right;\n",
       "    }\n",
       "</style>\n",
       "<table border=\"1\" class=\"dataframe\">\n",
       "  <thead>\n",
       "    <tr style=\"text-align: right;\">\n",
       "      <th></th>\n",
       "      <th>B2</th>\n",
       "      <th>B3</th>\n",
       "      <th>B4</th>\n",
       "      <th>B8</th>\n",
       "      <th>class_3</th>\n",
       "      <th>class_2</th>\n",
       "      <th>.geo</th>\n",
       "      <th>Contributor</th>\n",
       "      <th>coordinates</th>\n",
       "    </tr>\n",
       "  </thead>\n",
       "  <tbody>\n",
       "    <tr>\n",
       "      <th>0</th>\n",
       "      <td>283.0</td>\n",
       "      <td>780.0</td>\n",
       "      <td>727.0</td>\n",
       "      <td>3580.0</td>\n",
       "      <td>2</td>\n",
       "      <td>1</td>\n",
       "      <td>{'geodesic': False, 'type': 'Point', 'coordina...</td>\n",
       "      <td>MB</td>\n",
       "      <td>[144.25887942500674, -36.7634182552988]</td>\n",
       "    </tr>\n",
       "    <tr>\n",
       "      <th>1</th>\n",
       "      <td>1180.0</td>\n",
       "      <td>1474.0</td>\n",
       "      <td>1838.0</td>\n",
       "      <td>2488.0</td>\n",
       "      <td>0</td>\n",
       "      <td>0</td>\n",
       "      <td>{'geodesic': False, 'type': 'Point', 'coordina...</td>\n",
       "      <td>AK</td>\n",
       "      <td>[143.59385662017306, -37.98755249296847]</td>\n",
       "    </tr>\n",
       "    <tr>\n",
       "      <th>2</th>\n",
       "      <td>1014.5</td>\n",
       "      <td>1283.0</td>\n",
       "      <td>1621.0</td>\n",
       "      <td>2593.0</td>\n",
       "      <td>1</td>\n",
       "      <td>1</td>\n",
       "      <td>{'geodesic': False, 'type': 'Point', 'coordina...</td>\n",
       "      <td>AK</td>\n",
       "      <td>[143.85553586243708, -37.94164858194996]</td>\n",
       "    </tr>\n",
       "    <tr>\n",
       "      <th>3</th>\n",
       "      <td>504.5</td>\n",
       "      <td>782.5</td>\n",
       "      <td>1049.0</td>\n",
       "      <td>2591.0</td>\n",
       "      <td>2</td>\n",
       "      <td>1</td>\n",
       "      <td>{'geodesic': False, 'type': 'Point', 'coordina...</td>\n",
       "      <td>RJ</td>\n",
       "      <td>[141.59806955344473, -38.130294791615064]</td>\n",
       "    </tr>\n",
       "    <tr>\n",
       "      <th>4</th>\n",
       "      <td>475.0</td>\n",
       "      <td>739.0</td>\n",
       "      <td>771.5</td>\n",
       "      <td>2585.5</td>\n",
       "      <td>2</td>\n",
       "      <td>1</td>\n",
       "      <td>{'geodesic': False, 'type': 'Point', 'coordina...</td>\n",
       "      <td>AK</td>\n",
       "      <td>[148.49533430491442, -37.748600627392676]</td>\n",
       "    </tr>\n",
       "  </tbody>\n",
       "</table>\n",
       "</div>"
      ],
      "text/plain": [
       "       B2      B3      B4      B8  class_3  class_2  \\\n",
       "0   283.0   780.0   727.0  3580.0        2        1   \n",
       "1  1180.0  1474.0  1838.0  2488.0        0        0   \n",
       "2  1014.5  1283.0  1621.0  2593.0        1        1   \n",
       "3   504.5   782.5  1049.0  2591.0        2        1   \n",
       "4   475.0   739.0   771.5  2585.5        2        1   \n",
       "\n",
       "                                                .geo Contributor  \\\n",
       "0  {'geodesic': False, 'type': 'Point', 'coordina...          MB   \n",
       "1  {'geodesic': False, 'type': 'Point', 'coordina...          AK   \n",
       "2  {'geodesic': False, 'type': 'Point', 'coordina...          AK   \n",
       "3  {'geodesic': False, 'type': 'Point', 'coordina...          RJ   \n",
       "4  {'geodesic': False, 'type': 'Point', 'coordina...          AK   \n",
       "\n",
       "                                 coordinates  \n",
       "0    [144.25887942500674, -36.7634182552988]  \n",
       "1   [143.59385662017306, -37.98755249296847]  \n",
       "2   [143.85553586243708, -37.94164858194996]  \n",
       "3  [141.59806955344473, -38.130294791615064]  \n",
       "4  [148.49533430491442, -37.748600627392676]  "
      ]
     },
     "execution_count": 4,
     "metadata": {},
     "output_type": "execute_result"
    }
   ],
   "source": [
    "TEST_DATA_PATH = os.path.join(DATA_PATH, \"test_data.csv\")\n",
    "df_test = pd.read_csv(TEST_DATA_PATH)\n",
    "df_test.head()"
   ]
  },
  {
   "cell_type": "code",
   "execution_count": 5,
   "metadata": {},
   "outputs": [
    {
     "name": "stdout",
     "output_type": "stream",
     "text": [
      "B2             0\n",
      "B3             0\n",
      "B4             0\n",
      "B8             0\n",
      "class_3        0\n",
      "class_2        0\n",
      ".geo           0\n",
      "Contributor    0\n",
      "coordinates    0\n",
      "dtype: int64\n",
      "B2             0\n",
      "B3             0\n",
      "B4             0\n",
      "B8             0\n",
      "class_3        0\n",
      "class_2        0\n",
      ".geo           0\n",
      "Contributor    0\n",
      "coordinates    0\n",
      "dtype: int64\n"
     ]
    }
   ],
   "source": [
    "# Check for any missing values\n",
    "print (df_train.isnull().sum())\n",
    "print (df_test.isnull().sum())"
   ]
  },
  {
   "cell_type": "code",
   "execution_count": 6,
   "metadata": {},
   "outputs": [],
   "source": [
    "train_X, train_y = df_train[['B2', 'B3', 'B4', 'B8']], df_train[['class_3']]\n",
    "test_X, test_y = df_test[['B2', 'B3', 'B4', 'B8']], df_test[['class_3']]"
   ]
  },
  {
   "cell_type": "code",
   "execution_count": 7,
   "metadata": {},
   "outputs": [
    {
     "data": {
      "text/plain": [
       "((4368, 4), (1092, 4), (4368, 4), (4368, 1))"
      ]
     },
     "execution_count": 7,
     "metadata": {},
     "output_type": "execute_result"
    }
   ],
   "source": [
    "train_X.shape, test_X.shape, train_X.shape, train_y.shape"
   ]
  },
  {
   "cell_type": "markdown",
   "metadata": {},
   "source": [
    "## Normalize the data"
   ]
  },
  {
   "cell_type": "code",
   "execution_count": 8,
   "metadata": {},
   "outputs": [],
   "source": [
    "X, y = np.concatenate((train_X, test_X)), np.concatenate((train_y, test_y))"
   ]
  },
  {
   "cell_type": "code",
   "execution_count": 9,
   "metadata": {},
   "outputs": [],
   "source": [
    "scaler = MinMaxScaler()\n",
    "X = scaler.fit_transform(X)"
   ]
  },
  {
   "cell_type": "code",
   "execution_count": 10,
   "metadata": {},
   "outputs": [],
   "source": [
    "train_X, train_y, test_X, test_y = X[:4368], y[:4368], X[4368:], y[4368:]"
   ]
  },
  {
   "cell_type": "markdown",
   "metadata": {},
   "source": [
    "## Train Model"
   ]
  },
  {
   "cell_type": "code",
   "execution_count": 11,
   "metadata": {},
   "outputs": [],
   "source": [
    "clf = DecisionTreeClassifier(criterion='entropy', max_depth=70)"
   ]
  },
  {
   "cell_type": "code",
   "execution_count": 12,
   "metadata": {},
   "outputs": [
    {
     "data": {
      "text/plain": [
       "DecisionTreeClassifier(criterion='entropy', max_depth=70)"
      ]
     },
     "execution_count": 12,
     "metadata": {},
     "output_type": "execute_result"
    }
   ],
   "source": [
    "clf.fit(train_X, train_y)"
   ]
  },
  {
   "cell_type": "code",
   "execution_count": 13,
   "metadata": {},
   "outputs": [],
   "source": [
    "pred = clf.predict(test_X)"
   ]
  },
  {
   "cell_type": "markdown",
   "metadata": {},
   "source": [
    "## Evaluate Model"
   ]
  },
  {
   "cell_type": "code",
   "execution_count": 14,
   "metadata": {},
   "outputs": [
    {
     "name": "stdout",
     "output_type": "stream",
     "text": [
      "              precision    recall  f1-score   support\n",
      "\n",
      "           0       0.90      0.80      0.85       405\n",
      "           1       0.71      0.80      0.75       324\n",
      "           2       0.80      0.80      0.80       363\n",
      "\n",
      "    accuracy                           0.80      1092\n",
      "   macro avg       0.80      0.80      0.80      1092\n",
      "weighted avg       0.81      0.80      0.80      1092\n",
      "\n"
     ]
    }
   ],
   "source": [
    "print (classification_report(pred, test_y))"
   ]
  },
  {
   "cell_type": "code",
   "execution_count": 15,
   "metadata": {},
   "outputs": [
    {
     "data": {
      "text/plain": [
       "<Figure size 640x480 with 2 Axes>"
      ]
     },
     "metadata": {},
     "output_type": "display_data"
    },
    {
     "data": {
      "text/plain": [
       "<Figure size 800x800 with 0 Axes>"
      ]
     },
     "metadata": {},
     "output_type": "display_data"
    }
   ],
   "source": [
    "from sklearn.metrics import plot_confusion_matrix\n",
    "import matplotlib.pyplot as plt\n",
    "\n",
    "plot_confusion_matrix(clf, test_X, test_y) \n",
    "plt.figure(figsize=(8, 8))\n",
    "plt.show()"
   ]
  },
  {
   "cell_type": "code",
   "execution_count": null,
   "metadata": {},
   "outputs": [],
   "source": []
  }
 ],
 "metadata": {
  "kernelspec": {
   "display_name": "Python 3 (ipykernel)",
   "language": "python",
   "name": "python3"
  },
  "language_info": {
   "codemirror_mode": {
    "name": "ipython",
    "version": 3
   },
   "file_extension": ".py",
   "mimetype": "text/x-python",
   "name": "python",
   "nbconvert_exporter": "python",
   "pygments_lexer": "ipython3",
   "version": "3.6.9"
  }
 },
 "nbformat": 4,
 "nbformat_minor": 4
}
