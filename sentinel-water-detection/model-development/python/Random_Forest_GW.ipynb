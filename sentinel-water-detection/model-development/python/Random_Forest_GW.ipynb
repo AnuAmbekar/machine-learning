{
  "nbformat": 4,
  "nbformat_minor": 0,
  "metadata": {
    "colab": {
      "name": "Random_Forest_GW",
      "provenance": [],
      "collapsed_sections": []
    },
    "kernelspec": {
      "name": "python3",
      "display_name": "Python 3"
    },
    "language_info": {
      "name": "python"
    }
  },
  "cells": [
    {
      "cell_type": "code",
      "metadata": {
        "id": "kyecQ3jhXZNE"
      },
      "source": [
        "import pandas as pd\n",
        "import numpy as np\n",
        "from sklearn.ensemble import RandomForestClassifier\n",
        "from sklearn.model_selection import RandomizedSearchCV, GridSearchCV\n",
        "from sklearn.metrics import accuracy_score, classification_report, confusion_matrix\n",
        "import seaborn as sns"
      ],
      "execution_count": 1,
      "outputs": []
    },
    {
      "cell_type": "code",
      "metadata": {
        "colab": {
          "base_uri": "https://localhost:8080/",
          "height": 206
        },
        "id": "jdLz7Q07X-4Q",
        "outputId": "b7b9717b-560a-40a4-ad6c-037f3c156fe9"
      },
      "source": [
        "train = pd.read_csv('drive/MyDrive/GEE/train_data.csv')\n",
        "train.head()"
      ],
      "execution_count": 2,
      "outputs": [
        {
          "output_type": "execute_result",
          "data": {
            "text/html": [
              "<div>\n",
              "<style scoped>\n",
              "    .dataframe tbody tr th:only-of-type {\n",
              "        vertical-align: middle;\n",
              "    }\n",
              "\n",
              "    .dataframe tbody tr th {\n",
              "        vertical-align: top;\n",
              "    }\n",
              "\n",
              "    .dataframe thead th {\n",
              "        text-align: right;\n",
              "    }\n",
              "</style>\n",
              "<table border=\"1\" class=\"dataframe\">\n",
              "  <thead>\n",
              "    <tr style=\"text-align: right;\">\n",
              "      <th></th>\n",
              "      <th>B2</th>\n",
              "      <th>B3</th>\n",
              "      <th>B4</th>\n",
              "      <th>B8</th>\n",
              "      <th>class_3</th>\n",
              "      <th>class_2</th>\n",
              "      <th>.geo</th>\n",
              "      <th>Contributor</th>\n",
              "      <th>coordinates</th>\n",
              "    </tr>\n",
              "  </thead>\n",
              "  <tbody>\n",
              "    <tr>\n",
              "      <th>0</th>\n",
              "      <td>1122.0</td>\n",
              "      <td>1440.0</td>\n",
              "      <td>1754.0</td>\n",
              "      <td>1960.0</td>\n",
              "      <td>2</td>\n",
              "      <td>1</td>\n",
              "      <td>{'geodesic': False, 'type': 'Point', 'coordina...</td>\n",
              "      <td>NK</td>\n",
              "      <td>[146.5644056016995, -38.182756404207645]</td>\n",
              "    </tr>\n",
              "    <tr>\n",
              "      <th>1</th>\n",
              "      <td>450.0</td>\n",
              "      <td>766.0</td>\n",
              "      <td>1002.0</td>\n",
              "      <td>2248.0</td>\n",
              "      <td>2</td>\n",
              "      <td>1</td>\n",
              "      <td>{'geodesic': False, 'type': 'Point', 'coordina...</td>\n",
              "      <td>EG</td>\n",
              "      <td>[144.29930361279213, -36.75695038525314]</td>\n",
              "    </tr>\n",
              "    <tr>\n",
              "      <th>2</th>\n",
              "      <td>1323.0</td>\n",
              "      <td>1322.0</td>\n",
              "      <td>1153.0</td>\n",
              "      <td>1464.0</td>\n",
              "      <td>0</td>\n",
              "      <td>0</td>\n",
              "      <td>{'geodesic': False, 'type': 'Point', 'coordina...</td>\n",
              "      <td>AK</td>\n",
              "      <td>[152.34102203623007, -27.554339120147525]</td>\n",
              "    </tr>\n",
              "    <tr>\n",
              "      <th>3</th>\n",
              "      <td>991.0</td>\n",
              "      <td>1278.0</td>\n",
              "      <td>1672.0</td>\n",
              "      <td>2608.0</td>\n",
              "      <td>1</td>\n",
              "      <td>1</td>\n",
              "      <td>{'geodesic': False, 'type': 'Point', 'coordina...</td>\n",
              "      <td>AK</td>\n",
              "      <td>[143.7278852605637, -37.910746536176255]</td>\n",
              "    </tr>\n",
              "    <tr>\n",
              "      <th>4</th>\n",
              "      <td>1182.0</td>\n",
              "      <td>1596.0</td>\n",
              "      <td>2192.0</td>\n",
              "      <td>3113.0</td>\n",
              "      <td>1</td>\n",
              "      <td>1</td>\n",
              "      <td>{'geodesic': False, 'type': 'Point', 'coordina...</td>\n",
              "      <td>AK</td>\n",
              "      <td>[143.8925464521428, -37.95476398509811]</td>\n",
              "    </tr>\n",
              "  </tbody>\n",
              "</table>\n",
              "</div>"
            ],
            "text/plain": [
              "       B2      B3  ...  Contributor                                coordinates\n",
              "0  1122.0  1440.0  ...           NK   [146.5644056016995, -38.182756404207645]\n",
              "1   450.0   766.0  ...           EG   [144.29930361279213, -36.75695038525314]\n",
              "2  1323.0  1322.0  ...           AK  [152.34102203623007, -27.554339120147525]\n",
              "3   991.0  1278.0  ...           AK   [143.7278852605637, -37.910746536176255]\n",
              "4  1182.0  1596.0  ...           AK    [143.8925464521428, -37.95476398509811]\n",
              "\n",
              "[5 rows x 9 columns]"
            ]
          },
          "metadata": {},
          "execution_count": 2
        }
      ]
    },
    {
      "cell_type": "code",
      "metadata": {
        "colab": {
          "base_uri": "https://localhost:8080/",
          "height": 206
        },
        "id": "ju5crX7vYQjU",
        "outputId": "cea82835-5352-4520-f717-8c65bca8bae9"
      },
      "source": [
        "test = pd.read_csv('drive/MyDrive/GEE/test_data.csv')\n",
        "test.head()"
      ],
      "execution_count": 3,
      "outputs": [
        {
          "output_type": "execute_result",
          "data": {
            "text/html": [
              "<div>\n",
              "<style scoped>\n",
              "    .dataframe tbody tr th:only-of-type {\n",
              "        vertical-align: middle;\n",
              "    }\n",
              "\n",
              "    .dataframe tbody tr th {\n",
              "        vertical-align: top;\n",
              "    }\n",
              "\n",
              "    .dataframe thead th {\n",
              "        text-align: right;\n",
              "    }\n",
              "</style>\n",
              "<table border=\"1\" class=\"dataframe\">\n",
              "  <thead>\n",
              "    <tr style=\"text-align: right;\">\n",
              "      <th></th>\n",
              "      <th>B2</th>\n",
              "      <th>B3</th>\n",
              "      <th>B4</th>\n",
              "      <th>B8</th>\n",
              "      <th>class_3</th>\n",
              "      <th>class_2</th>\n",
              "      <th>.geo</th>\n",
              "      <th>Contributor</th>\n",
              "      <th>coordinates</th>\n",
              "    </tr>\n",
              "  </thead>\n",
              "  <tbody>\n",
              "    <tr>\n",
              "      <th>0</th>\n",
              "      <td>283.0</td>\n",
              "      <td>780.0</td>\n",
              "      <td>727.0</td>\n",
              "      <td>3580.0</td>\n",
              "      <td>2</td>\n",
              "      <td>1</td>\n",
              "      <td>{'geodesic': False, 'type': 'Point', 'coordina...</td>\n",
              "      <td>MB</td>\n",
              "      <td>[144.25887942500674, -36.7634182552988]</td>\n",
              "    </tr>\n",
              "    <tr>\n",
              "      <th>1</th>\n",
              "      <td>1180.0</td>\n",
              "      <td>1474.0</td>\n",
              "      <td>1838.0</td>\n",
              "      <td>2488.0</td>\n",
              "      <td>0</td>\n",
              "      <td>0</td>\n",
              "      <td>{'geodesic': False, 'type': 'Point', 'coordina...</td>\n",
              "      <td>AK</td>\n",
              "      <td>[143.59385662017306, -37.98755249296847]</td>\n",
              "    </tr>\n",
              "    <tr>\n",
              "      <th>2</th>\n",
              "      <td>1014.5</td>\n",
              "      <td>1283.0</td>\n",
              "      <td>1621.0</td>\n",
              "      <td>2593.0</td>\n",
              "      <td>1</td>\n",
              "      <td>1</td>\n",
              "      <td>{'geodesic': False, 'type': 'Point', 'coordina...</td>\n",
              "      <td>AK</td>\n",
              "      <td>[143.85553586243708, -37.94164858194996]</td>\n",
              "    </tr>\n",
              "    <tr>\n",
              "      <th>3</th>\n",
              "      <td>504.5</td>\n",
              "      <td>782.5</td>\n",
              "      <td>1049.0</td>\n",
              "      <td>2591.0</td>\n",
              "      <td>2</td>\n",
              "      <td>1</td>\n",
              "      <td>{'geodesic': False, 'type': 'Point', 'coordina...</td>\n",
              "      <td>RJ</td>\n",
              "      <td>[141.59806955344473, -38.130294791615064]</td>\n",
              "    </tr>\n",
              "    <tr>\n",
              "      <th>4</th>\n",
              "      <td>475.0</td>\n",
              "      <td>739.0</td>\n",
              "      <td>771.5</td>\n",
              "      <td>2585.5</td>\n",
              "      <td>2</td>\n",
              "      <td>1</td>\n",
              "      <td>{'geodesic': False, 'type': 'Point', 'coordina...</td>\n",
              "      <td>AK</td>\n",
              "      <td>[148.49533430491442, -37.748600627392676]</td>\n",
              "    </tr>\n",
              "  </tbody>\n",
              "</table>\n",
              "</div>"
            ],
            "text/plain": [
              "       B2      B3  ...  Contributor                                coordinates\n",
              "0   283.0   780.0  ...           MB    [144.25887942500674, -36.7634182552988]\n",
              "1  1180.0  1474.0  ...           AK   [143.59385662017306, -37.98755249296847]\n",
              "2  1014.5  1283.0  ...           AK   [143.85553586243708, -37.94164858194996]\n",
              "3   504.5   782.5  ...           RJ  [141.59806955344473, -38.130294791615064]\n",
              "4   475.0   739.0  ...           AK  [148.49533430491442, -37.748600627392676]\n",
              "\n",
              "[5 rows x 9 columns]"
            ]
          },
          "metadata": {},
          "execution_count": 3
        }
      ]
    },
    {
      "cell_type": "code",
      "metadata": {
        "id": "2ATJyWmKYU1T"
      },
      "source": [
        "# Feature selection\n",
        "train_bin = train[['B2', 'B3', 'B4', 'B8', 'class_2']]\n",
        "test_bin = test[['B2', 'B3', 'B4', 'B8', 'class_2']]\n",
        "train_multi = train[['B2', 'B3', 'B4', 'B8', 'class_3']]\n",
        "test_multi = test[['B2', 'B3', 'B4', 'B8', 'class_3']]"
      ],
      "execution_count": 4,
      "outputs": []
    },
    {
      "cell_type": "code",
      "metadata": {
        "colab": {
          "base_uri": "https://localhost:8080/",
          "height": 526
        },
        "id": "TFrhUQhRYtb8",
        "outputId": "c6757e5f-99c9-4fc7-83fc-c9b50ec2ef95"
      },
      "source": [
        "# Define feature and label columns\n",
        "x_train_bin = train_bin.iloc[:,:-1]\n",
        "y_train_bin = train_bin.iloc[:,-1]\n",
        "x_test_bin = test_bin.iloc[:,:-1]\n",
        "y_test_bin = test_bin.iloc[:,-1]\n",
        "\n",
        "# Define instance of RF classifier\n",
        "clf = RandomForestClassifier(max_depth=5, random_state=42)\n",
        "# Fit training data\n",
        "model = clf.fit(x_train_bin,y_train_bin)\n",
        "# Predict using test data\n",
        "pred = model.predict(x_test_bin)\n",
        "\n",
        "# Results\n",
        "print('Binary random forest classifier results: \\n')\n",
        "print(classification_report(y_test_bin, pred, target_names=['Water', 'Veg/Urban']))\n",
        "print('Binary classifier accuracy is {:.2f}%. \\n\\nConfusion matrix:'.format(accuracy_score(y_test_bin, pred)*100))\n",
        "cm = confusion_matrix(y_test_bin, pred)\n",
        "sns.heatmap(cm, annot=True, fmt='.0f', cmap='Blues')"
      ],
      "execution_count": 5,
      "outputs": [
        {
          "output_type": "stream",
          "name": "stdout",
          "text": [
            "Binary random forest classifier results: \n",
            "\n",
            "              precision    recall  f1-score   support\n",
            "\n",
            "       Water       0.90      0.42      0.57       364\n",
            "   Veg/Urban       0.77      0.98      0.86       728\n",
            "\n",
            "    accuracy                           0.79      1092\n",
            "   macro avg       0.83      0.70      0.72      1092\n",
            "weighted avg       0.81      0.79      0.76      1092\n",
            "\n",
            "Binary classifier accuracy is 79.03%. \n",
            "\n",
            "Confusion matrix:\n"
          ]
        },
        {
          "output_type": "execute_result",
          "data": {
            "text/plain": [
              "<matplotlib.axes._subplots.AxesSubplot at 0x7fb1e79b66d0>"
            ]
          },
          "metadata": {},
          "execution_count": 5
        },
        {
          "output_type": "display_data",
          "data": {
            "image/png": "[encoded data removed]",
            "text/plain": [
              "<Figure size 432x288 with 2 Axes>"
            ]
          },
          "metadata": {
            "needs_background": "light"
          }
        }
      ]
    },
    {
      "cell_type": "code",
      "metadata": {
        "colab": {
          "base_uri": "https://localhost:8080/",
          "height": 543
        },
        "id": "3XonzSENb_vg",
        "outputId": "c7b3c8cd-a438-493c-b1ab-a9619f340888"
      },
      "source": [
        "# Define feature and label columns\n",
        "x_train_multi = train_multi.iloc[:,:-1]\n",
        "y_train_multi = train_multi.iloc[:,-1]\n",
        "x_test_multi = test_multi.iloc[:,:-1]\n",
        "y_test_multi = test_multi.iloc[:,-1]\n",
        "\n",
        "# Define instance of RF classifier\n",
        "clf = RandomForestClassifier(max_depth=5, random_state=42)\n",
        "# Fit training data\n",
        "model = clf.fit(x_train_multi,y_train_multi)\n",
        "# Predict using test data\n",
        "pred = model.predict(x_test_multi)\n",
        "\n",
        "# Results\n",
        "print('Multi-class random forest classifier results: \\n')\n",
        "print(classification_report(y_test_multi, pred, target_names=['Water', 'Veg', 'Urban']))\n",
        "print('Multi-class classifier accuracy is {:.2f}%. \\n\\nConfusion matrix:'.format(accuracy_score(y_test_multi, pred)*100))\n",
        "cm = confusion_matrix(y_test_multi, pred)\n",
        "sns.heatmap(cm, annot=True, fmt='.0f', cmap='Blues')"
      ],
      "execution_count": 6,
      "outputs": [
        {
          "output_type": "stream",
          "name": "stdout",
          "text": [
            "Multi-class random forest classifier results: \n",
            "\n",
            "              precision    recall  f1-score   support\n",
            "\n",
            "       Water       0.70      0.62      0.66       364\n",
            "         Veg       0.62      0.78      0.69       364\n",
            "       Urban       0.78      0.68      0.73       364\n",
            "\n",
            "    accuracy                           0.69      1092\n",
            "   macro avg       0.70      0.69      0.69      1092\n",
            "weighted avg       0.70      0.69      0.69      1092\n",
            "\n",
            "Multi-class classifier accuracy is 69.14%. \n",
            "\n",
            "Confusion matrix:\n"
          ]
        },
        {
          "output_type": "execute_result",
          "data": {
            "text/plain": [
              "<matplotlib.axes._subplots.AxesSubplot at 0x7fb1df067610>"
            ]
          },
          "metadata": {},
          "execution_count": 6
        },
        {
          "output_type": "display_data",
          "data": {
            "image/png": "[encoded data removed]",
            "text/plain": [
              "<Figure size 432x288 with 2 Axes>"
            ]
          },
          "metadata": {
            "needs_background": "light"
          }
        }
      ]
    },
    {
      "cell_type": "markdown",
      "metadata": {
        "id": "950-7ELmiIzy"
      },
      "source": [
        "Hyperparameter Tuning - Binary "
      ]
    },
    {
      "cell_type": "code",
      "metadata": {
        "id": "tp1NL0wfiIiw"
      },
      "source": [
        "# https://towardsdatascience.com/hyperparameter-tuning-the-random-forest-in-python-using-scikit-learn-28d2aa77dd74\n",
        "\n",
        "# Number of trees in random forest\n",
        "n_estimators = [int(x) for x in np.linspace(start = 10, stop = 100, num = 10)]\n",
        "# Number of features to consider at every split\n",
        "max_features = ['auto', 'sqrt']\n",
        "# Maximum number of levels in tree\n",
        "max_depth = [int(x) for x in np.linspace(10, 100, num = 10)]\n",
        "max_depth.append(None)\n",
        "# Minimum number of samples required to split a node\n",
        "min_samples_split = [2, 5, 10]\n",
        "# Minimum number of samples required at each leaf node\n",
        "min_samples_leaf = [1, 2, 4]\n",
        "# Method of selecting samples for training each tree\n",
        "bootstrap = [True, False]\n",
        "# Create the random grid\n",
        "random_grid = {'n_estimators': n_estimators,\n",
        "               'max_features': max_features,\n",
        "               'max_depth': max_depth,\n",
        "               'min_samples_split': min_samples_split,\n",
        "               'min_samples_leaf': min_samples_leaf,\n",
        "               'bootstrap': bootstrap}"
      ],
      "execution_count": 13,
      "outputs": []
    },
    {
      "cell_type": "code",
      "metadata": {
        "colab": {
          "base_uri": "https://localhost:8080/"
        },
        "id": "z7ET5pKqiGMg",
        "outputId": "584e3cc2-9e0d-44ce-b9b1-a27d9fe88d53"
      },
      "source": [
        "rf_bin = RandomizedSearchCV(estimator = RandomForestClassifier(), param_distributions=random_grid, n_iter=10, random_state=42)\n",
        "rf_bin.fit(x_train_bin, y_train_bin)\n",
        "rf_bin.best_params_"
      ],
      "execution_count": 14,
      "outputs": [
        {
          "output_type": "execute_result",
          "data": {
            "text/plain": [
              "{'bootstrap': True,\n",
              " 'max_depth': 100,\n",
              " 'max_features': 'auto',\n",
              " 'min_samples_leaf': 1,\n",
              " 'min_samples_split': 5,\n",
              " 'n_estimators': 90}"
            ]
          },
          "metadata": {},
          "execution_count": 14
        }
      ]
    },
    {
      "cell_type": "code",
      "metadata": {
        "colab": {
          "base_uri": "https://localhost:8080/",
          "height": 525
        },
        "id": "wuRq-y0cjasT",
        "outputId": "a1f88c09-184e-4bc4-d066-727f0047bbfe"
      },
      "source": [
        "# Results\n",
        "# Define instance of RF classifier\n",
        "clf = RandomForestClassifier(bootstrap=True, max_depth=100, max_features='auto', min_samples_leaf=1, min_samples_split=5, n_estimators=90)\n",
        "# Fit training data\n",
        "model = clf.fit(x_train_bin,y_train_bin)\n",
        "# Predict using test data\n",
        "pred = model.predict(x_test_bin)\n",
        "\n",
        "print('Optimised binary random forest classifier results: \\n')\n",
        "print(classification_report(y_test_bin, pred, target_names=['Water', 'Veg/Urban']))\n",
        "print('Optimised binary classifier accuracy is {:.2f}%. \\n\\nConfusion matrix:'.format(accuracy_score(y_test_bin, pred)*100))\n",
        "cm = confusion_matrix(y_test_bin, pred)\n",
        "sns.heatmap(cm, annot=True, fmt='.0f', cmap='Blues')"
      ],
      "execution_count": 21,
      "outputs": [
        {
          "output_type": "stream",
          "name": "stdout",
          "text": [
            "Optimised binary random forest classifier results: \n",
            "\n",
            "              precision    recall  f1-score   support\n",
            "\n",
            "       Water       0.89      0.88      0.89       364\n",
            "   Veg/Urban       0.94      0.95      0.94       728\n",
            "\n",
            "    accuracy                           0.92      1092\n",
            "   macro avg       0.92      0.91      0.91      1092\n",
            "weighted avg       0.92      0.92      0.92      1092\n",
            "\n",
            "Optimised binary classifier accuracy is 92.40%. \n",
            "\n",
            "Confusion matrix:\n"
          ]
        },
        {
          "output_type": "execute_result",
          "data": {
            "text/plain": [
              "<matplotlib.axes._subplots.AxesSubplot at 0x7fb1df091050>"
            ]
          },
          "metadata": {},
          "execution_count": 21
        },
        {
          "output_type": "display_data",
          "data": {
            "image/png": "[encoded data removed]",
            "text/plain": [
              "<Figure size 432x288 with 2 Axes>"
            ]
          },
          "metadata": {
            "needs_background": "light"
          }
        }
      ]
    },
    {
      "cell_type": "markdown",
      "metadata": {
        "id": "h8UtLwOwwjyA"
      },
      "source": [
        "Hyperparamter Tuning -  Multiclass "
      ]
    },
    {
      "cell_type": "code",
      "metadata": {
        "colab": {
          "base_uri": "https://localhost:8080/"
        },
        "id": "fEayT76lwkcl",
        "outputId": "3838a10c-1108-4895-fa15-5930cebae608"
      },
      "source": [
        "rf_multi = RandomizedSearchCV(estimator = RandomForestClassifier(), param_distributions=random_grid, n_iter=10, random_state=42)\n",
        "rf_multi.fit(x_train_multi, y_train_multi)\n",
        "rf_multi.best_params_"
      ],
      "execution_count": 22,
      "outputs": [
        {
          "output_type": "execute_result",
          "data": {
            "text/plain": [
              "{'bootstrap': True,\n",
              " 'max_depth': 70,\n",
              " 'max_features': 'auto',\n",
              " 'min_samples_leaf': 1,\n",
              " 'min_samples_split': 5,\n",
              " 'n_estimators': 60}"
            ]
          },
          "metadata": {},
          "execution_count": 22
        }
      ]
    },
    {
      "cell_type": "code",
      "metadata": {
        "colab": {
          "base_uri": "https://localhost:8080/",
          "height": 543
        },
        "id": "oJe4rCQFxIU3",
        "outputId": "77d692b5-221a-4fc9-bc6e-02e6cccf4db9"
      },
      "source": [
        "# Results\n",
        "# Define instance of RF classifier\n",
        "clf = RandomForestClassifier(bootstrap=True, max_depth=70, max_features='auto', min_samples_leaf=1, min_samples_split=5, n_estimators=60)\n",
        "# Fit training data\n",
        "model = clf.fit(x_train_multi,y_train_multi)\n",
        "# Predict using test data\n",
        "pred = model.predict(x_test_multi)\n",
        "\n",
        "print('Optimised multi-class random forest classifier results: \\n')\n",
        "print(classification_report(y_test_multi, pred, target_names=['Water', 'Veg', 'Urban']))\n",
        "print('Optimised multi-class classifier accuracy is {:.2f}%. \\n\\nConfusion matrix:'.format(accuracy_score(y_test_multi, pred)*100))\n",
        "cm = confusion_matrix(y_test_multi, pred)\n",
        "sns.heatmap(cm, annot=True, fmt='.0f', cmap='Blues')"
      ],
      "execution_count": 23,
      "outputs": [
        {
          "output_type": "stream",
          "name": "stdout",
          "text": [
            "Optimised multi-class random forest classifier results: \n",
            "\n",
            "              precision    recall  f1-score   support\n",
            "\n",
            "       Water       0.86      0.89      0.87       364\n",
            "         Veg       0.81      0.80      0.81       364\n",
            "       Urban       0.85      0.82      0.84       364\n",
            "\n",
            "    accuracy                           0.84      1092\n",
            "   macro avg       0.84      0.84      0.84      1092\n",
            "weighted avg       0.84      0.84      0.84      1092\n",
            "\n",
            "Optimised multi-class classifier accuracy is 84.07%. \n",
            "\n",
            "Confusion matrix:\n"
          ]
        },
        {
          "output_type": "execute_result",
          "data": {
            "text/plain": [
              "<matplotlib.axes._subplots.AxesSubplot at 0x7fb1de4e9350>"
            ]
          },
          "metadata": {},
          "execution_count": 23
        },
        {
          "output_type": "display_data",
          "data": {
            "image/png": "[encoded data removed]",
            "text/plain": [
              "<Figure size 432x288 with 2 Axes>"
            ]
          },
          "metadata": {
            "needs_background": "light"
          }
        }
      ]
    }
  ]
}