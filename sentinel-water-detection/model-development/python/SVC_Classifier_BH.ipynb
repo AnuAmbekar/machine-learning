{
  "nbformat": 4,
  "nbformat_minor": 0,
  "metadata": {
    "colab": {
      "name": "SVC_Classifier_BH.ipynb",
      "provenance": []
    },
    "kernelspec": {
      "name": "python3",
      "display_name": "Python 3"
    },
    "language_info": {
      "name": "python"
    }
  },
  "cells": [
    {
      "cell_type": "code",
      "metadata": {
        "id": "CjJf4XZr2z_s"
      },
      "source": [
        "import pandas as pd  \n",
        "import numpy as np  \n",
        "from sklearn.svm import SVC \n",
        "from sklearn.metrics import classification_report, confusion_matrix  \n",
        "import matplotlib.pyplot as plt\n",
        "%matplotlib inline\n",
        "from sklearn.model_selection import GridSearchCV\n",
        "from sklearn.preprocessing import StandardScaler\n",
        "from sklearn.metrics import classification_report, confusion_matrix"
      ],
      "execution_count": 19,
      "outputs": []
    },
    {
      "cell_type": "code",
      "metadata": {
        "colab": {
          "base_uri": "https://localhost:8080/"
        },
        "id": "KZM0vvXA-sjy",
        "outputId": "70b71b5b-fba3-4d1b-a492-78c3424c9bc5"
      },
      "source": [
        "from google.colab import drive\n",
        "drive.mount('/content/drive')"
      ],
      "execution_count": 2,
      "outputs": [
        {
          "output_type": "stream",
          "name": "stdout",
          "text": [
            "Mounted at /content/drive\n"
          ]
        }
      ]
    },
    {
      "cell_type": "code",
      "metadata": {
        "id": "Jm_txs4-cAHK"
      },
      "source": [
        "df_train = pd.read_csv('/content/drive/MyDrive/GEE/train_data.csv', delimiter=',')"
      ],
      "execution_count": 3,
      "outputs": []
    },
    {
      "cell_type": "code",
      "metadata": {
        "id": "hEtNDoyycAs9"
      },
      "source": [
        "df_test = pd.read_csv('/content/drive/MyDrive/GEE/test_data.csv', delimiter=',')"
      ],
      "execution_count": 4,
      "outputs": []
    },
    {
      "cell_type": "code",
      "metadata": {
        "id": "A2mJtE_l6g9T"
      },
      "source": [
        "scaler = StandardScaler()"
      ],
      "execution_count": 5,
      "outputs": []
    },
    {
      "cell_type": "code",
      "metadata": {
        "id": "Gety5cTouK_2"
      },
      "source": [
        "df_train_Sample = df_train\n",
        "df_test_Sample = df_test"
      ],
      "execution_count": 11,
      "outputs": []
    },
    {
      "cell_type": "code",
      "metadata": {
        "id": "qS264mdjd6Ud"
      },
      "source": [
        "x_train = df_train_Sample.drop(['class_3', 'class_2', '.geo', 'Contributor', 'coordinates'], axis = 1)\n",
        "x_test = df_test_Sample.drop(['class_3', 'class_2', '.geo', 'Contributor', 'coordinates'], axis = 1)\n",
        "y_train = df_train_Sample['class_2']\n",
        "y_test = df_test_Sample['class_2']"
      ],
      "execution_count": 12,
      "outputs": []
    },
    {
      "cell_type": "code",
      "metadata": {
        "id": "1qlVmCtF73i3"
      },
      "source": [
        "X_train = scaler.fit_transform(x_train)\n",
        "X_test = scaler.fit_transform(x_test)"
      ],
      "execution_count": 13,
      "outputs": []
    },
    {
      "cell_type": "code",
      "metadata": {
        "id": "9V5So-6Hdd5f"
      },
      "source": [
        "param_grid = {'C': [0.1,1, 10], 'gamma': [1,0.1,0.01],}"
      ],
      "execution_count": 14,
      "outputs": []
    },
    {
      "cell_type": "code",
      "metadata": {
        "id": "x6klK0e4jU_0",
        "colab": {
          "base_uri": "https://localhost:8080/"
        },
        "outputId": "3d68667b-e267-4a40-d70c-de9561cd89b6"
      },
      "source": [
        "grid = GridSearchCV(SVC(),param_grid)\n",
        "grid.fit(X_train,y_train)"
      ],
      "execution_count": 15,
      "outputs": [
        {
          "output_type": "execute_result",
          "data": {
            "text/plain": [
              "GridSearchCV(estimator=SVC(),\n",
              "             param_grid={'C': [0.1, 1, 10], 'gamma': [1, 0.1, 0.01],\n",
              "                         'kernel': ['rbf', 'poly']})"
            ]
          },
          "metadata": {},
          "execution_count": 15
        }
      ]
    },
    {
      "cell_type": "code",
      "metadata": {
        "id": "eVnxOhLDkswq",
        "colab": {
          "base_uri": "https://localhost:8080/"
        },
        "outputId": "8ee1d23a-8ad1-4297-e4d7-d6f25afc4586"
      },
      "source": [
        "print(grid.best_estimator_)"
      ],
      "execution_count": 16,
      "outputs": [
        {
          "output_type": "stream",
          "name": "stdout",
          "text": [
            "SVC(C=10, gamma=1)\n"
          ]
        }
      ]
    },
    {
      "cell_type": "code",
      "metadata": {
        "colab": {
          "base_uri": "https://localhost:8080/"
        },
        "id": "ULBeXyTCktfq",
        "outputId": "38fbc9c4-e06d-4dda-a2cc-71fa8a120052"
      },
      "source": [
        "grid_predictions = grid.predict(X_test)\n",
        "print(confusion_matrix(y_test,grid_predictions))\n",
        "print(classification_report(y_test,grid_predictions))"
      ],
      "execution_count": 17,
      "outputs": [
        {
          "output_type": "stream",
          "name": "stdout",
          "text": [
            "[[216 148]\n",
            " [ 41 687]]\n",
            "              precision    recall  f1-score   support\n",
            "\n",
            "           0       0.84      0.59      0.70       364\n",
            "           1       0.82      0.94      0.88       728\n",
            "\n",
            "    accuracy                           0.83      1092\n",
            "   macro avg       0.83      0.77      0.79      1092\n",
            "weighted avg       0.83      0.83      0.82      1092\n",
            "\n"
          ]
        }
      ]
    },
    {
      "cell_type": "code",
      "metadata": {
        "colab": {
          "base_uri": "https://localhost:8080/"
        },
        "id": "EoyI1woSFhNM",
        "outputId": "96919a98-183b-4917-b710-9868c688e1e9"
      },
      "source": [
        "from sklearn import metrics\n",
        "# Model Accuracy: how often is the classifier correct?\n",
        "print(\"Accuracy:\",metrics.accuracy_score(y_test, grid_predictions))\n",
        "# Model Precision\n",
        "print(\"Precision:\",metrics.precision_score(y_test, grid_predictions))\n",
        "\n",
        "# Model Recall\n",
        "print(\"Recall:\",metrics.recall_score(y_test, grid_predictions))"
      ],
      "execution_count": 21,
      "outputs": [
        {
          "output_type": "stream",
          "name": "stdout",
          "text": [
            "Accuracy: 0.8269230769230769\n",
            "Precision: 0.822754491017964\n",
            "Recall: 0.9436813186813187\n"
          ]
        }
      ]
    }
  ]
}