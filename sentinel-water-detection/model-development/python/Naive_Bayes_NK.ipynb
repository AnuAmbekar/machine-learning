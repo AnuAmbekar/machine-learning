{
  "nbformat": 4,
  "nbformat_minor": 0,
  "metadata": {
    "colab": {
      "name": "Naive Bayes",
      "provenance": [],
      "collapsed_sections": []
    },
    "kernelspec": {
      "name": "python3",
      "display_name": "Python 3"
    },
    "language_info": {
      "name": "python"
    }
  },
  "cells": [
    {
      "cell_type": "markdown",
      "metadata": {
        "id": "UylEgkkTXzrS"
      },
      "source": [
        "Import Data"
      ]
    },
    {
      "cell_type": "code",
      "metadata": {
        "id": "qZsKtcedQf5g",
        "colab": {
          "base_uri": "https://localhost:8080/",
          "height": 847
        },
        "outputId": "7f2d02f5-be15-43a6-e3a9-755962dae309"
      },
      "source": [
        "import numpy as np\n",
        "import pandas as pd\n",
        "\n",
        "# Mount google drive\n",
        "from google.colab import drive \n",
        "drive.mount('/content/drive')\n",
        "\n",
        "df_test = pd.read_csv('/content/drive/MyDrive/Python/test_data.csv')\n",
        "df_train = pd.read_csv('/content/drive/MyDrive/Python/train_data.csv')\n",
        "\n",
        "display(df_train)\n",
        "display(df_test)"
      ],
      "execution_count": 44,
      "outputs": [
        {
          "output_type": "stream",
          "name": "stdout",
          "text": [
            "Drive already mounted at /content/drive; to attempt to forcibly remount, call drive.mount(\"/content/drive\", force_remount=True).\n"
          ]
        },
        {
          "output_type": "display_data",
          "data": {
            "text/html": [
              "<div>\n",
              "<style scoped>\n",
              "    .dataframe tbody tr th:only-of-type {\n",
              "        vertical-align: middle;\n",
              "    }\n",
              "\n",
              "    .dataframe tbody tr th {\n",
              "        vertical-align: top;\n",
              "    }\n",
              "\n",
              "    .dataframe thead th {\n",
              "        text-align: right;\n",
              "    }\n",
              "</style>\n",
              "<table border=\"1\" class=\"dataframe\">\n",
              "  <thead>\n",
              "    <tr style=\"text-align: right;\">\n",
              "      <th></th>\n",
              "      <th>B2</th>\n",
              "      <th>B3</th>\n",
              "      <th>B4</th>\n",
              "      <th>B8</th>\n",
              "      <th>class_3</th>\n",
              "      <th>class_2</th>\n",
              "      <th>.geo</th>\n",
              "      <th>Contributor</th>\n",
              "      <th>coordinates</th>\n",
              "    </tr>\n",
              "  </thead>\n",
              "  <tbody>\n",
              "    <tr>\n",
              "      <th>0</th>\n",
              "      <td>1122.0</td>\n",
              "      <td>1440.0</td>\n",
              "      <td>1754.0</td>\n",
              "      <td>1960.0</td>\n",
              "      <td>2</td>\n",
              "      <td>1</td>\n",
              "      <td>{'geodesic': False, 'type': 'Point', 'coordina...</td>\n",
              "      <td>NK</td>\n",
              "      <td>[146.5644056016995, -38.182756404207645]</td>\n",
              "    </tr>\n",
              "    <tr>\n",
              "      <th>1</th>\n",
              "      <td>450.0</td>\n",
              "      <td>766.0</td>\n",
              "      <td>1002.0</td>\n",
              "      <td>2248.0</td>\n",
              "      <td>2</td>\n",
              "      <td>1</td>\n",
              "      <td>{'geodesic': False, 'type': 'Point', 'coordina...</td>\n",
              "      <td>EG</td>\n",
              "      <td>[144.29930361279213, -36.75695038525314]</td>\n",
              "    </tr>\n",
              "    <tr>\n",
              "      <th>2</th>\n",
              "      <td>1323.0</td>\n",
              "      <td>1322.0</td>\n",
              "      <td>1153.0</td>\n",
              "      <td>1464.0</td>\n",
              "      <td>0</td>\n",
              "      <td>0</td>\n",
              "      <td>{'geodesic': False, 'type': 'Point', 'coordina...</td>\n",
              "      <td>AK</td>\n",
              "      <td>[152.34102203623007, -27.554339120147525]</td>\n",
              "    </tr>\n",
              "    <tr>\n",
              "      <th>3</th>\n",
              "      <td>991.0</td>\n",
              "      <td>1278.0</td>\n",
              "      <td>1672.0</td>\n",
              "      <td>2608.0</td>\n",
              "      <td>1</td>\n",
              "      <td>1</td>\n",
              "      <td>{'geodesic': False, 'type': 'Point', 'coordina...</td>\n",
              "      <td>AK</td>\n",
              "      <td>[143.7278852605637, -37.910746536176255]</td>\n",
              "    </tr>\n",
              "    <tr>\n",
              "      <th>4</th>\n",
              "      <td>1182.0</td>\n",
              "      <td>1596.0</td>\n",
              "      <td>2192.0</td>\n",
              "      <td>3113.0</td>\n",
              "      <td>1</td>\n",
              "      <td>1</td>\n",
              "      <td>{'geodesic': False, 'type': 'Point', 'coordina...</td>\n",
              "      <td>AK</td>\n",
              "      <td>[143.8925464521428, -37.95476398509811]</td>\n",
              "    </tr>\n",
              "    <tr>\n",
              "      <th>...</th>\n",
              "      <td>...</td>\n",
              "      <td>...</td>\n",
              "      <td>...</td>\n",
              "      <td>...</td>\n",
              "      <td>...</td>\n",
              "      <td>...</td>\n",
              "      <td>...</td>\n",
              "      <td>...</td>\n",
              "      <td>...</td>\n",
              "    </tr>\n",
              "    <tr>\n",
              "      <th>4363</th>\n",
              "      <td>748.0</td>\n",
              "      <td>989.0</td>\n",
              "      <td>1370.0</td>\n",
              "      <td>2237.0</td>\n",
              "      <td>0</td>\n",
              "      <td>0</td>\n",
              "      <td>{'geodesic': False, 'type': 'Point', 'coordina...</td>\n",
              "      <td>AK</td>\n",
              "      <td>[143.55909181867764, -37.94066043513743]</td>\n",
              "    </tr>\n",
              "    <tr>\n",
              "      <th>4364</th>\n",
              "      <td>844.5</td>\n",
              "      <td>1261.0</td>\n",
              "      <td>1740.0</td>\n",
              "      <td>2711.0</td>\n",
              "      <td>0</td>\n",
              "      <td>0</td>\n",
              "      <td>{'geodesic': False, 'type': 'Point', 'coordina...</td>\n",
              "      <td>AK</td>\n",
              "      <td>[143.97330499618516, -37.73862932773895]</td>\n",
              "    </tr>\n",
              "    <tr>\n",
              "      <th>4365</th>\n",
              "      <td>835.0</td>\n",
              "      <td>1166.0</td>\n",
              "      <td>1390.0</td>\n",
              "      <td>2324.0</td>\n",
              "      <td>2</td>\n",
              "      <td>1</td>\n",
              "      <td>{'geodesic': False, 'type': 'Point', 'coordina...</td>\n",
              "      <td>EG</td>\n",
              "      <td>[144.3028070424002, -36.765394548923865]</td>\n",
              "    </tr>\n",
              "    <tr>\n",
              "      <th>4366</th>\n",
              "      <td>699.0</td>\n",
              "      <td>1068.0</td>\n",
              "      <td>1325.0</td>\n",
              "      <td>1774.0</td>\n",
              "      <td>0</td>\n",
              "      <td>0</td>\n",
              "      <td>{'geodesic': False, 'type': 'Point', 'coordina...</td>\n",
              "      <td>AK</td>\n",
              "      <td>[143.94914031504234, -37.75012776337568]</td>\n",
              "    </tr>\n",
              "    <tr>\n",
              "      <th>4367</th>\n",
              "      <td>340.5</td>\n",
              "      <td>490.5</td>\n",
              "      <td>599.5</td>\n",
              "      <td>2298.0</td>\n",
              "      <td>1</td>\n",
              "      <td>1</td>\n",
              "      <td>{'geodesic': False, 'type': 'Point', 'coordina...</td>\n",
              "      <td>AK</td>\n",
              "      <td>[143.95893195163924, -37.746444670710794]</td>\n",
              "    </tr>\n",
              "  </tbody>\n",
              "</table>\n",
              "<p>4368 rows × 9 columns</p>\n",
              "</div>"
            ],
            "text/plain": [
              "          B2      B3  ...  Contributor                                coordinates\n",
              "0     1122.0  1440.0  ...           NK   [146.5644056016995, -38.182756404207645]\n",
              "1      450.0   766.0  ...           EG   [144.29930361279213, -36.75695038525314]\n",
              "2     1323.0  1322.0  ...           AK  [152.34102203623007, -27.554339120147525]\n",
              "3      991.0  1278.0  ...           AK   [143.7278852605637, -37.910746536176255]\n",
              "4     1182.0  1596.0  ...           AK    [143.8925464521428, -37.95476398509811]\n",
              "...      ...     ...  ...          ...                                        ...\n",
              "4363   748.0   989.0  ...           AK   [143.55909181867764, -37.94066043513743]\n",
              "4364   844.5  1261.0  ...           AK   [143.97330499618516, -37.73862932773895]\n",
              "4365   835.0  1166.0  ...           EG   [144.3028070424002, -36.765394548923865]\n",
              "4366   699.0  1068.0  ...           AK   [143.94914031504234, -37.75012776337568]\n",
              "4367   340.5   490.5  ...           AK  [143.95893195163924, -37.746444670710794]\n",
              "\n",
              "[4368 rows x 9 columns]"
            ]
          },
          "metadata": {}
        },
        {
          "output_type": "display_data",
          "data": {
            "text/html": [
              "<div>\n",
              "<style scoped>\n",
              "    .dataframe tbody tr th:only-of-type {\n",
              "        vertical-align: middle;\n",
              "    }\n",
              "\n",
              "    .dataframe tbody tr th {\n",
              "        vertical-align: top;\n",
              "    }\n",
              "\n",
              "    .dataframe thead th {\n",
              "        text-align: right;\n",
              "    }\n",
              "</style>\n",
              "<table border=\"1\" class=\"dataframe\">\n",
              "  <thead>\n",
              "    <tr style=\"text-align: right;\">\n",
              "      <th></th>\n",
              "      <th>B2</th>\n",
              "      <th>B3</th>\n",
              "      <th>B4</th>\n",
              "      <th>B8</th>\n",
              "      <th>class_3</th>\n",
              "      <th>class_2</th>\n",
              "      <th>.geo</th>\n",
              "      <th>Contributor</th>\n",
              "      <th>coordinates</th>\n",
              "    </tr>\n",
              "  </thead>\n",
              "  <tbody>\n",
              "    <tr>\n",
              "      <th>0</th>\n",
              "      <td>283.0</td>\n",
              "      <td>780.0</td>\n",
              "      <td>727.0</td>\n",
              "      <td>3580.0</td>\n",
              "      <td>2</td>\n",
              "      <td>1</td>\n",
              "      <td>{'geodesic': False, 'type': 'Point', 'coordina...</td>\n",
              "      <td>MB</td>\n",
              "      <td>[144.25887942500674, -36.7634182552988]</td>\n",
              "    </tr>\n",
              "    <tr>\n",
              "      <th>1</th>\n",
              "      <td>1180.0</td>\n",
              "      <td>1474.0</td>\n",
              "      <td>1838.0</td>\n",
              "      <td>2488.0</td>\n",
              "      <td>0</td>\n",
              "      <td>0</td>\n",
              "      <td>{'geodesic': False, 'type': 'Point', 'coordina...</td>\n",
              "      <td>AK</td>\n",
              "      <td>[143.59385662017306, -37.98755249296847]</td>\n",
              "    </tr>\n",
              "    <tr>\n",
              "      <th>2</th>\n",
              "      <td>1014.5</td>\n",
              "      <td>1283.0</td>\n",
              "      <td>1621.0</td>\n",
              "      <td>2593.0</td>\n",
              "      <td>1</td>\n",
              "      <td>1</td>\n",
              "      <td>{'geodesic': False, 'type': 'Point', 'coordina...</td>\n",
              "      <td>AK</td>\n",
              "      <td>[143.85553586243708, -37.94164858194996]</td>\n",
              "    </tr>\n",
              "    <tr>\n",
              "      <th>3</th>\n",
              "      <td>504.5</td>\n",
              "      <td>782.5</td>\n",
              "      <td>1049.0</td>\n",
              "      <td>2591.0</td>\n",
              "      <td>2</td>\n",
              "      <td>1</td>\n",
              "      <td>{'geodesic': False, 'type': 'Point', 'coordina...</td>\n",
              "      <td>RJ</td>\n",
              "      <td>[141.59806955344473, -38.130294791615064]</td>\n",
              "    </tr>\n",
              "    <tr>\n",
              "      <th>4</th>\n",
              "      <td>475.0</td>\n",
              "      <td>739.0</td>\n",
              "      <td>771.5</td>\n",
              "      <td>2585.5</td>\n",
              "      <td>2</td>\n",
              "      <td>1</td>\n",
              "      <td>{'geodesic': False, 'type': 'Point', 'coordina...</td>\n",
              "      <td>AK</td>\n",
              "      <td>[148.49533430491442, -37.748600627392676]</td>\n",
              "    </tr>\n",
              "    <tr>\n",
              "      <th>...</th>\n",
              "      <td>...</td>\n",
              "      <td>...</td>\n",
              "      <td>...</td>\n",
              "      <td>...</td>\n",
              "      <td>...</td>\n",
              "      <td>...</td>\n",
              "      <td>...</td>\n",
              "      <td>...</td>\n",
              "      <td>...</td>\n",
              "    </tr>\n",
              "    <tr>\n",
              "      <th>1087</th>\n",
              "      <td>880.0</td>\n",
              "      <td>1208.0</td>\n",
              "      <td>1772.0</td>\n",
              "      <td>2703.0</td>\n",
              "      <td>1</td>\n",
              "      <td>1</td>\n",
              "      <td>{'geodesic': False, 'type': 'Point', 'coordina...</td>\n",
              "      <td>AK</td>\n",
              "      <td>[143.9487809889287, -37.75003793184727]</td>\n",
              "    </tr>\n",
              "    <tr>\n",
              "      <th>1088</th>\n",
              "      <td>1251.0</td>\n",
              "      <td>1537.0</td>\n",
              "      <td>1450.5</td>\n",
              "      <td>1860.5</td>\n",
              "      <td>0</td>\n",
              "      <td>0</td>\n",
              "      <td>{'geodesic': False, 'type': 'Point', 'coordina...</td>\n",
              "      <td>AK</td>\n",
              "      <td>[152.9138776929131, -27.53718129822084]</td>\n",
              "    </tr>\n",
              "    <tr>\n",
              "      <th>1089</th>\n",
              "      <td>563.5</td>\n",
              "      <td>849.5</td>\n",
              "      <td>991.5</td>\n",
              "      <td>2238.0</td>\n",
              "      <td>0</td>\n",
              "      <td>0</td>\n",
              "      <td>{'geodesic': False, 'type': 'Point', 'coordina...</td>\n",
              "      <td>AK</td>\n",
              "      <td>[143.95758447871304, -37.75192439394392]</td>\n",
              "    </tr>\n",
              "    <tr>\n",
              "      <th>1090</th>\n",
              "      <td>240.0</td>\n",
              "      <td>418.0</td>\n",
              "      <td>448.0</td>\n",
              "      <td>469.5</td>\n",
              "      <td>0</td>\n",
              "      <td>0</td>\n",
              "      <td>{'geodesic': False, 'type': 'Point', 'coordina...</td>\n",
              "      <td>AK</td>\n",
              "      <td>[143.8894023486484, -37.79980459858749]</td>\n",
              "    </tr>\n",
              "    <tr>\n",
              "      <th>1091</th>\n",
              "      <td>1326.0</td>\n",
              "      <td>1503.0</td>\n",
              "      <td>1581.0</td>\n",
              "      <td>3048.0</td>\n",
              "      <td>1</td>\n",
              "      <td>1</td>\n",
              "      <td>{'geodesic': False, 'type': 'Point', 'coordina...</td>\n",
              "      <td>AK</td>\n",
              "      <td>[150.9553707104757, -23.800279547812043]</td>\n",
              "    </tr>\n",
              "  </tbody>\n",
              "</table>\n",
              "<p>1092 rows × 9 columns</p>\n",
              "</div>"
            ],
            "text/plain": [
              "          B2      B3  ...  Contributor                                coordinates\n",
              "0      283.0   780.0  ...           MB    [144.25887942500674, -36.7634182552988]\n",
              "1     1180.0  1474.0  ...           AK   [143.59385662017306, -37.98755249296847]\n",
              "2     1014.5  1283.0  ...           AK   [143.85553586243708, -37.94164858194996]\n",
              "3      504.5   782.5  ...           RJ  [141.59806955344473, -38.130294791615064]\n",
              "4      475.0   739.0  ...           AK  [148.49533430491442, -37.748600627392676]\n",
              "...      ...     ...  ...          ...                                        ...\n",
              "1087   880.0  1208.0  ...           AK    [143.9487809889287, -37.75003793184727]\n",
              "1088  1251.0  1537.0  ...           AK    [152.9138776929131, -27.53718129822084]\n",
              "1089   563.5   849.5  ...           AK   [143.95758447871304, -37.75192439394392]\n",
              "1090   240.0   418.0  ...           AK    [143.8894023486484, -37.79980459858749]\n",
              "1091  1326.0  1503.0  ...           AK   [150.9553707104757, -23.800279547812043]\n",
              "\n",
              "[1092 rows x 9 columns]"
            ]
          },
          "metadata": {}
        }
      ]
    },
    {
      "cell_type": "markdown",
      "metadata": {
        "id": "gOos5mcOX3IK"
      },
      "source": [
        "Assign train and test data to objects"
      ]
    },
    {
      "cell_type": "code",
      "metadata": {
        "id": "kmXs1vEsTY5y"
      },
      "source": [
        "train_y = df_train[\"class_3\"].to_numpy()\n",
        "test_y = df_test[\"class_3\"].to_numpy()\n",
        "train_x = df_train.iloc[:,0:4].to_numpy()\n",
        "test_x = df_test.iloc[:,0:4].to_numpy()"
      ],
      "execution_count": 45,
      "outputs": []
    },
    {
      "cell_type": "markdown",
      "metadata": {
        "id": "f6Ya-lt8X87u"
      },
      "source": [
        "Import relevant packages and metrics"
      ]
    },
    {
      "cell_type": "code",
      "metadata": {
        "id": "Ny_ou9PkVk02"
      },
      "source": [
        "from sklearn.metrics import classification_report, confusion_matrix, plot_confusion_matrix\n",
        "from sklearn import metrics\n",
        "from sklearn.model_selection import GridSearchCV\n",
        "from sklearn.model_selection import RepeatedStratifiedKFold\n",
        "import time\n",
        "from sklearn.metrics import accuracy_score, precision_score, recall_score, f1_score, precision_recall_fscore_support\n",
        "from pprint import pprint\n",
        "import matplotlib.pyplot as plt"
      ],
      "execution_count": 46,
      "outputs": []
    },
    {
      "cell_type": "markdown",
      "metadata": {
        "id": "Td-NIynAYAuF"
      },
      "source": [
        "Grid Search"
      ]
    },
    {
      "cell_type": "code",
      "metadata": {
        "id": "rdvRvc6BVk6g",
        "colab": {
          "base_uri": "https://localhost:8080/"
        },
        "outputId": "e4d4cdde-e9ab-4ced-f370-702eb5c3e93b"
      },
      "source": [
        "from sklearn.naive_bayes import GaussianNB\n",
        "# Grid searching key hyperparameters for GaussianNB Classifier\n",
        "model = GaussianNB()\n",
        "var_smoothing = 1e-09, 1e-08, 1e-07\n",
        "# define grid search\n",
        "grid = dict(var_smoothing=var_smoothing)\n",
        "cv = RepeatedStratifiedKFold(n_splits=10, n_repeats=3, random_state=1)\n",
        "grid_search = GridSearchCV(estimator=model, param_grid=grid, n_jobs=-1, cv=cv, scoring='accuracy',error_score=0)\n",
        "grid_result = grid_search.fit(train_x, train_y)\n",
        "# summarize results\n",
        "print(\"Best: %f using %s\" % (grid_result.best_score_, grid_result.best_params_))\n",
        "means = grid_result.cv_results_['mean_test_score']\n",
        "stds = grid_result.cv_results_['std_test_score']\n",
        "params = grid_result.cv_results_['params']\n",
        "for mean, stdev, param in zip(means, stds, params):\n",
        "    print(\"%f (%f) with: %r\" % (mean, stdev, param))"
      ],
      "execution_count": 47,
      "outputs": [
        {
          "output_type": "stream",
          "name": "stdout",
          "text": [
            "Best: 0.473594 using {'var_smoothing': 1e-09}\n",
            "0.473594 (0.020706) with: {'var_smoothing': 1e-09}\n",
            "0.473594 (0.020706) with: {'var_smoothing': 1e-08}\n",
            "0.473594 (0.020706) with: {'var_smoothing': 1e-07}\n"
          ]
        }
      ]
    },
    {
      "cell_type": "markdown",
      "metadata": {
        "id": "cvu1BLeoYDqn"
      },
      "source": [
        "Algorithm Testing (with confusion matrix output)"
      ]
    },
    {
      "cell_type": "code",
      "metadata": {
        "id": "9ESOUoTLXvfA",
        "colab": {
          "base_uri": "https://localhost:8080/",
          "height": 681
        },
        "outputId": "b1d97e68-cec5-4243-cc15-94050ba99bdb"
      },
      "source": [
        "clf = GaussianNB(var_smoothing = 1e-09)\n",
        "\n",
        "start_train=time.time()\n",
        "clf.fit(train_x, train_y)\n",
        "stop_train=time.time()\n",
        "\n",
        "start_test=time.time()\n",
        "pred_y = clf.predict(test_x)\n",
        "stop_test=time.time()\n",
        "\n",
        "print(\"Accuracy:\",accuracy_score(test_y, pred_y))\n",
        "print(\"Precision, Recall, Fscore:\",precision_recall_fscore_support(test_y, pred_y, average='weighted'))\n",
        "print(confusion_matrix(test_y, pred_y))\n",
        "print(classification_report(test_y,pred_y))\n",
        "print(\"train time:\", stop_train-start_train)\n",
        "print(\"test time:\", stop_test-start_test)\n",
        "\n",
        "print('Parameters currently in use:\\n')\n",
        "pprint(clf.get_params())\n",
        "\n",
        "plot_confusion_matrix(clf, test_x,test_y, values_format='d')\n",
        "plt.show()"
      ],
      "execution_count": 48,
      "outputs": [
        {
          "output_type": "stream",
          "name": "stdout",
          "text": [
            "Accuracy: 0.4633699633699634\n",
            "Precision, Recall, Fscore: (0.4741169305599695, 0.4633699633699634, 0.43788387253637384, None)\n",
            "[[146 173  45]\n",
            " [ 62 277  25]\n",
            " [171 110  83]]\n",
            "              precision    recall  f1-score   support\n",
            "\n",
            "           0       0.39      0.40      0.39       364\n",
            "           1       0.49      0.76      0.60       364\n",
            "           2       0.54      0.23      0.32       364\n",
            "\n",
            "    accuracy                           0.46      1092\n",
            "   macro avg       0.47      0.46      0.44      1092\n",
            "weighted avg       0.47      0.46      0.44      1092\n",
            "\n",
            "train time: 0.008932113647460938\n",
            "test time: 0.0008809566497802734\n",
            "Parameters currently in use:\n",
            "\n",
            "{'priors': None, 'var_smoothing': 1e-09}\n"
          ]
        },
        {
          "output_type": "stream",
          "name": "stderr",
          "text": [
            "/usr/local/lib/python3.7/dist-packages/sklearn/utils/deprecation.py:87: FutureWarning: Function plot_confusion_matrix is deprecated; Function `plot_confusion_matrix` is deprecated in 1.0 and will be removed in 1.2. Use one of the class methods: ConfusionMatrixDisplay.from_predictions or ConfusionMatrixDisplay.from_estimator.\n",
            "  warnings.warn(msg, category=FutureWarning)\n"
          ]
        },
        {
          "output_type": "display_data",
          "data": {
            "image/png": "[encoded data removed]",
            "text/plain": [
              "<Figure size 432x288 with 2 Axes>"
            ]
          },
          "metadata": {
            "needs_background": "light"
          }
        }
      ]
    },
    {
      "cell_type": "markdown",
      "metadata": {
        "id": "IPxkI8ZkgCml"
      },
      "source": [
        "Algorithm testing (without confusion matrix, with loop)"
      ]
    },
    {
      "cell_type": "code",
      "metadata": {
        "id": "tvP4lYUZbEEv",
        "colab": {
          "base_uri": "https://localhost:8080/"
        },
        "outputId": "4d2219a3-c9c1-41d2-d6bf-12ba46e1c13c"
      },
      "source": [
        "gnb = GaussianNB()\n",
        "#Starting scores at 0 to begin summation of scores over 100 iterations \n",
        "count = 0\n",
        "accuracy = 0\n",
        "precision = 0\n",
        "tp_rate = 0\n",
        "f_score = 0\n",
        "#Loop of 100 iterations summing metrics to then be later averaged\n",
        "while count <100:\n",
        "    gnb.fit(train_x, train_y)\n",
        "    pred_y = gnb.predict(test_x)\n",
        "    score_y = gnb.predict_proba(test_x)[:,1]\n",
        "    # --METRICS--\n",
        "    # accuracy\n",
        "    acc = accuracy_score(test_y, pred_y)\n",
        "    accuracy = acc + accuracy\n",
        "    # precision\n",
        "    pre = precision_score(test_y, pred_y, average = 'weighted')\n",
        "    precision = pre + precision\n",
        "    # TPR\n",
        "    tpr = recall_score(test_y, pred_y, average = 'weighted')\n",
        "    tp_rate = tpr + tp_rate\n",
        "    # Fscore\n",
        "    f1 = f1_score(test_y, pred_y, average = 'weighted')\n",
        "    f_score = f1 + f_score\n",
        "    count = count + 1\n",
        "\n",
        "#Average metrics over 100 iterations\n",
        "print('accuracy:',accuracy/100)\n",
        "print('precision',precision/100)\n",
        "print('TP rate:',tp_rate/100)\n",
        "print('F score:',f_score/100)\n",
        "\n",
        "#Parameters used\n",
        "print('Parameters currently in use:\\n')\n",
        "pprint(gnb.get_params())"
      ],
      "execution_count": 49,
      "outputs": [
        {
          "output_type": "stream",
          "name": "stdout",
          "text": [
            "accuracy: 0.46336996336996344\n",
            "precision 0.4741169305599703\n",
            "TP rate: 0.46336996336996344\n",
            "F score: 0.43788387253637445\n",
            "Parameters currently in use:\n",
            "\n",
            "{'priors': None, 'var_smoothing': 1e-09}\n"
          ]
        }
      ]
    }
  ]
}