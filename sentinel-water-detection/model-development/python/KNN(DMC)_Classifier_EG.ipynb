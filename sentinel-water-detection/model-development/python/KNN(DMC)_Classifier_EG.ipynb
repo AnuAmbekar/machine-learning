{
  "nbformat": 4,
  "nbformat_minor": 0,
  "metadata": {
    "colab": {
      "name": "Create_KNN_(DMC).ipynb",
      "provenance": [],
      "collapsed_sections": []
    },
    "kernelspec": {
      "name": "python3",
      "display_name": "Python 3"
    },
    "language_info": {
      "name": "python"
    }
  },
  "cells": [
    {
      "cell_type": "code",
      "metadata": {
        "colab": {
          "base_uri": "https://localhost:8080/"
        },
        "id": "cwceWwgsMl23",
        "outputId": "1fd2139a-494a-46c1-8230-3c45a51580b0"
      },
      "source": [
        "#Import numpy and pandas\n",
        "import numpy as np\n",
        "import pandas as pd\n",
        "\n",
        "# Mount google drive\n",
        "from google.colab import drive \n",
        "drive.mount('/content/drive')\n"
      ],
      "execution_count": null,
      "outputs": [
        {
          "output_type": "stream",
          "name": "stdout",
          "text": [
            "Mounted at /content/drive\n"
          ]
        }
      ]
    },
    {
      "cell_type": "code",
      "metadata": {
        "id": "3z9sKakyM4nq"
      },
      "source": [
        "# Read CSVs as pandas data frames\n",
        "\n",
        "df_test = pd.read_csv('/content/drive/MyDrive/test_data.csv')\n",
        "df_train = pd.read_csv('/content/drive/MyDrive/train_data.csv')"
      ],
      "execution_count": null,
      "outputs": []
    },
    {
      "cell_type": "code",
      "metadata": {
        "id": "pRwRAc4nO2Ek"
      },
      "source": [
        "# Create training and testing numpy arrays\n",
        "\n",
        "# Train/test data for 3 classes\n",
        "y_train =df_train[\"class_3\"].to_numpy()\n",
        "y_test = df_test[\"class_3\"].to_numpy()\n",
        "X_train=df_train.iloc[:,0:4].to_numpy()\n",
        "X_test=df_test.iloc[:,0:4].to_numpy()\n",
        "\n",
        "#Train/test data for 2 classes\n",
        "y_train_binary = df_train[\"class_2\"].to_numpy()\n",
        "y_test_binary = df_test[\"class_2\"].to_numpy()"
      ],
      "execution_count": null,
      "outputs": []
    },
    {
      "cell_type": "code",
      "metadata": {
        "id": "LFmzlpmRSF9d"
      },
      "source": [
        "from sklearn.neighbors import KNeighborsClassifier\n",
        "from sklearn import metrics\n",
        "\n",
        "# Create loop to run KNN with k values 1-50\n",
        "k_range = (1,50)\n",
        "scores={}\n",
        "scores_list=[]\n",
        "for k in k_range: \n",
        "    model = KNeighborsClassifier(n_neighbors=k)\n",
        "    model.fit(X_train,y_train)\n",
        "    y_pred=model.predict(X_test)\n",
        "    scores[k] = metrics.accuracy_score(y_test,y_pred)\n",
        "    scores_list.append(metrics.accuracy_score(y_test,y_pred))"
      ],
      "execution_count": null,
      "outputs": []
    },
    {
      "cell_type": "code",
      "metadata": {
        "colab": {
          "base_uri": "https://localhost:8080/",
          "height": 296
        },
        "id": "eXWU7URofTjh",
        "outputId": "f4334804-b913-4677-c182-13b00d8977a7"
      },
      "source": [
        "%matplotlib inline\n",
        "import matplotlib.pyplot as plt\n",
        "\n",
        "# Plot accuracy score for k values 1-50\n",
        "\n",
        "plt.plot(k_range, scores_list)\n",
        "plt.xlabel('Value for K for KNN')\n",
        "plt.ylabel('Testing Accuracy')\n",
        "\n",
        "# The plot shows that the greatest accuracy occurs when k=1"
      ],
      "execution_count": null,
      "outputs": [
        {
          "output_type": "execute_result",
          "data": {
            "text/plain": [
              "Text(0, 0.5, 'Testing Accuracy')"
            ]
          },
          "metadata": {},
          "execution_count": 5
        },
        {
          "output_type": "display_data",
          "data": {
            "image/png": "[encoded data removed]",
            "text/plain": [
              "<Figure size 432x288 with 1 Axes>"
            ]
          },
          "metadata": {
            "needs_background": "light"
          }
        }
      ]
    },
    {
      "cell_type": "code",
      "metadata": {
        "colab": {
          "base_uri": "https://localhost:8080/",
          "height": 503
        },
        "id": "P3x4AEcihEbm",
        "outputId": "6e1f7927-222d-4b77-f053-fa2db3fed4b6"
      },
      "source": [
        "from sklearn.metrics import plot_confusion_matrix\n",
        "from sklearn.metrics import classification_report\n",
        "\n",
        "import timeit\n",
        "\n",
        "\n",
        "# Train a model where k=2, as k=1 will be overfitted for three variables\n",
        "\n",
        "knn = KNeighborsClassifier(n_neighbors=1)\n",
        "knn.fit(X_train, y_train)\n",
        "y_predict=knn.predict(X_test)\n",
        "\n",
        "# Create confusion matrix and classification report to evaluate the model\n",
        "\n",
        "plot_confusion_matrix(knn,X_test,y_test)\n",
        "print(classification_report(y_test,y_predict))\n",
        "\n"
      ],
      "execution_count": null,
      "outputs": [
        {
          "output_type": "stream",
          "name": "stderr",
          "text": [
            "/usr/local/lib/python3.7/dist-packages/sklearn/utils/deprecation.py:87: FutureWarning: Function plot_confusion_matrix is deprecated; Function `plot_confusion_matrix` is deprecated in 1.0 and will be removed in 1.2. Use one of the class methods: ConfusionMatrixDisplay.from_predictions or ConfusionMatrixDisplay.from_estimator.\n",
            "  warnings.warn(msg, category=FutureWarning)\n"
          ]
        },
        {
          "output_type": "stream",
          "name": "stdout",
          "text": [
            "              precision    recall  f1-score   support\n",
            "\n",
            "           0       0.84      0.90      0.87       364\n",
            "           1       0.78      0.79      0.78       364\n",
            "           2       0.86      0.79      0.82       364\n",
            "\n",
            "    accuracy                           0.82      1092\n",
            "   macro avg       0.82      0.82      0.82      1092\n",
            "weighted avg       0.82      0.82      0.82      1092\n",
            "\n"
          ]
        },
        {
          "output_type": "display_data",
          "data": {
            "image/png": "[encoded data removed]",
            "text/plain": [
              "<Figure size 432x288 with 2 Axes>"
            ]
          },
          "metadata": {
            "needs_background": "light"
          }
        }
      ]
    },
    {
      "cell_type": "code",
      "metadata": {
        "colab": {
          "base_uri": "https://localhost:8080/",
          "height": 486
        },
        "id": "Ww9EB5Cd6b6E",
        "outputId": "946fd0b8-6764-4b49-fe4e-99d86cd5c517"
      },
      "source": [
        "# Train a model where k=1 for binary classes\n",
        "\n",
        "knn = KNeighborsClassifier(n_neighbors=1)\n",
        "knn.fit(X_train, y_train_binary)\n",
        "y_predict_binary=knn.predict(X_test)\n",
        "\n",
        "# Create confusion matrix and classification report to evaluate the model\n",
        "\n",
        "plot_confusion_matrix(knn,X_test,y_test)\n",
        "print(classification_report(y_test_binary,y_predict_binary))"
      ],
      "execution_count": null,
      "outputs": [
        {
          "output_type": "stream",
          "name": "stderr",
          "text": [
            "/usr/local/lib/python3.7/dist-packages/sklearn/utils/deprecation.py:87: FutureWarning: Function plot_confusion_matrix is deprecated; Function `plot_confusion_matrix` is deprecated in 1.0 and will be removed in 1.2. Use one of the class methods: ConfusionMatrixDisplay.from_predictions or ConfusionMatrixDisplay.from_estimator.\n",
            "  warnings.warn(msg, category=FutureWarning)\n"
          ]
        },
        {
          "output_type": "stream",
          "name": "stdout",
          "text": [
            "              precision    recall  f1-score   support\n",
            "\n",
            "           0       0.84      0.90      0.87       364\n",
            "           1       0.95      0.91      0.93       728\n",
            "\n",
            "    accuracy                           0.91      1092\n",
            "   macro avg       0.89      0.91      0.90      1092\n",
            "weighted avg       0.91      0.91      0.91      1092\n",
            "\n"
          ]
        },
        {
          "output_type": "display_data",
          "data": {
            "image/png": "[encoded data removed]",
            "text/plain": [
              "<Figure size 432x288 with 2 Axes>"
            ]
          },
          "metadata": {
            "needs_background": "light"
          }
        }
      ]
    }
  ]
}