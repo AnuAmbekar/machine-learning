{
 "cells": [
  {
   "cell_type": "code",
   "execution_count": 2,
   "id": "ff7bb593",
   "metadata": {},
   "outputs": [],
   "source": [
    "import pandas as pd\n",
    "pd.options.mode.chained_assignment = None\n",
    "import numpy as np\n",
    "import matplotlib.pyplot as plt"
   ]
  },
  {
   "cell_type": "code",
   "execution_count": 3,
   "id": "4a85213c",
   "metadata": {},
   "outputs": [],
   "source": [
    "# Loading the data\n",
    "df_train = pd.read_csv('Training_data/train_data.csv')\n",
    "df_test = pd.read_csv('Training_data/test_data.csv')"
   ]
  },
  {
   "cell_type": "code",
   "execution_count": 4,
   "id": "af00d8f6",
   "metadata": {},
   "outputs": [
    {
     "data": {
      "text/html": [
       "<div>\n",
       "<style scoped>\n",
       "    .dataframe tbody tr th:only-of-type {\n",
       "        vertical-align: middle;\n",
       "    }\n",
       "\n",
       "    .dataframe tbody tr th {\n",
       "        vertical-align: top;\n",
       "    }\n",
       "\n",
       "    .dataframe thead th {\n",
       "        text-align: right;\n",
       "    }\n",
       "</style>\n",
       "<table border=\"1\" class=\"dataframe\">\n",
       "  <thead>\n",
       "    <tr style=\"text-align: right;\">\n",
       "      <th></th>\n",
       "      <th>B2</th>\n",
       "      <th>B3</th>\n",
       "      <th>B4</th>\n",
       "      <th>B8</th>\n",
       "      <th>class_3</th>\n",
       "      <th>class_2</th>\n",
       "      <th>.geo</th>\n",
       "      <th>Contributor</th>\n",
       "      <th>coordinates</th>\n",
       "    </tr>\n",
       "  </thead>\n",
       "  <tbody>\n",
       "    <tr>\n",
       "      <th>0</th>\n",
       "      <td>1122.0</td>\n",
       "      <td>1440.0</td>\n",
       "      <td>1754.0</td>\n",
       "      <td>1960.0</td>\n",
       "      <td>2</td>\n",
       "      <td>1</td>\n",
       "      <td>{'geodesic': False, 'type': 'Point', 'coordina...</td>\n",
       "      <td>NK</td>\n",
       "      <td>[146.5644056016995, -38.182756404207645]</td>\n",
       "    </tr>\n",
       "    <tr>\n",
       "      <th>1</th>\n",
       "      <td>450.0</td>\n",
       "      <td>766.0</td>\n",
       "      <td>1002.0</td>\n",
       "      <td>2248.0</td>\n",
       "      <td>2</td>\n",
       "      <td>1</td>\n",
       "      <td>{'geodesic': False, 'type': 'Point', 'coordina...</td>\n",
       "      <td>EG</td>\n",
       "      <td>[144.29930361279213, -36.75695038525314]</td>\n",
       "    </tr>\n",
       "    <tr>\n",
       "      <th>2</th>\n",
       "      <td>1323.0</td>\n",
       "      <td>1322.0</td>\n",
       "      <td>1153.0</td>\n",
       "      <td>1464.0</td>\n",
       "      <td>0</td>\n",
       "      <td>0</td>\n",
       "      <td>{'geodesic': False, 'type': 'Point', 'coordina...</td>\n",
       "      <td>AK</td>\n",
       "      <td>[152.34102203623007, -27.554339120147525]</td>\n",
       "    </tr>\n",
       "    <tr>\n",
       "      <th>3</th>\n",
       "      <td>991.0</td>\n",
       "      <td>1278.0</td>\n",
       "      <td>1672.0</td>\n",
       "      <td>2608.0</td>\n",
       "      <td>1</td>\n",
       "      <td>1</td>\n",
       "      <td>{'geodesic': False, 'type': 'Point', 'coordina...</td>\n",
       "      <td>AK</td>\n",
       "      <td>[143.7278852605637, -37.910746536176255]</td>\n",
       "    </tr>\n",
       "    <tr>\n",
       "      <th>4</th>\n",
       "      <td>1182.0</td>\n",
       "      <td>1596.0</td>\n",
       "      <td>2192.0</td>\n",
       "      <td>3113.0</td>\n",
       "      <td>1</td>\n",
       "      <td>1</td>\n",
       "      <td>{'geodesic': False, 'type': 'Point', 'coordina...</td>\n",
       "      <td>AK</td>\n",
       "      <td>[143.8925464521428, -37.95476398509811]</td>\n",
       "    </tr>\n",
       "  </tbody>\n",
       "</table>\n",
       "</div>"
      ],
      "text/plain": [
       "       B2      B3      B4      B8  class_3  class_2  \\\n",
       "0  1122.0  1440.0  1754.0  1960.0        2        1   \n",
       "1   450.0   766.0  1002.0  2248.0        2        1   \n",
       "2  1323.0  1322.0  1153.0  1464.0        0        0   \n",
       "3   991.0  1278.0  1672.0  2608.0        1        1   \n",
       "4  1182.0  1596.0  2192.0  3113.0        1        1   \n",
       "\n",
       "                                                .geo Contributor  \\\n",
       "0  {'geodesic': False, 'type': 'Point', 'coordina...          NK   \n",
       "1  {'geodesic': False, 'type': 'Point', 'coordina...          EG   \n",
       "2  {'geodesic': False, 'type': 'Point', 'coordina...          AK   \n",
       "3  {'geodesic': False, 'type': 'Point', 'coordina...          AK   \n",
       "4  {'geodesic': False, 'type': 'Point', 'coordina...          AK   \n",
       "\n",
       "                                 coordinates  \n",
       "0   [146.5644056016995, -38.182756404207645]  \n",
       "1   [144.29930361279213, -36.75695038525314]  \n",
       "2  [152.34102203623007, -27.554339120147525]  \n",
       "3   [143.7278852605637, -37.910746536176255]  \n",
       "4    [143.8925464521428, -37.95476398509811]  "
      ]
     },
     "execution_count": 4,
     "metadata": {},
     "output_type": "execute_result"
    }
   ],
   "source": [
    "df_train.head()"
   ]
  },
  {
   "cell_type": "code",
   "execution_count": 5,
   "id": "3b208202",
   "metadata": {},
   "outputs": [],
   "source": [
    "df_train = df_train[['B2', 'B3', 'B4', 'B8', 'class_3']]"
   ]
  },
  {
   "cell_type": "code",
   "execution_count": 6,
   "id": "53b47199",
   "metadata": {},
   "outputs": [],
   "source": [
    "df_test = df_test[['B2', 'B3', 'B4', 'B8', 'class_3']]"
   ]
  },
  {
   "cell_type": "code",
   "execution_count": 7,
   "id": "0a1c4d69",
   "metadata": {},
   "outputs": [
    {
     "data": {
      "text/html": [
       "<div>\n",
       "<style scoped>\n",
       "    .dataframe tbody tr th:only-of-type {\n",
       "        vertical-align: middle;\n",
       "    }\n",
       "\n",
       "    .dataframe tbody tr th {\n",
       "        vertical-align: top;\n",
       "    }\n",
       "\n",
       "    .dataframe thead th {\n",
       "        text-align: right;\n",
       "    }\n",
       "</style>\n",
       "<table border=\"1\" class=\"dataframe\">\n",
       "  <thead>\n",
       "    <tr style=\"text-align: right;\">\n",
       "      <th></th>\n",
       "      <th>B2</th>\n",
       "      <th>B3</th>\n",
       "      <th>B4</th>\n",
       "      <th>B8</th>\n",
       "      <th>class_3</th>\n",
       "    </tr>\n",
       "  </thead>\n",
       "  <tbody>\n",
       "    <tr>\n",
       "      <th>0</th>\n",
       "      <td>1122.0</td>\n",
       "      <td>1440.0</td>\n",
       "      <td>1754.0</td>\n",
       "      <td>1960.0</td>\n",
       "      <td>2</td>\n",
       "    </tr>\n",
       "    <tr>\n",
       "      <th>1</th>\n",
       "      <td>450.0</td>\n",
       "      <td>766.0</td>\n",
       "      <td>1002.0</td>\n",
       "      <td>2248.0</td>\n",
       "      <td>2</td>\n",
       "    </tr>\n",
       "    <tr>\n",
       "      <th>2</th>\n",
       "      <td>1323.0</td>\n",
       "      <td>1322.0</td>\n",
       "      <td>1153.0</td>\n",
       "      <td>1464.0</td>\n",
       "      <td>0</td>\n",
       "    </tr>\n",
       "    <tr>\n",
       "      <th>3</th>\n",
       "      <td>991.0</td>\n",
       "      <td>1278.0</td>\n",
       "      <td>1672.0</td>\n",
       "      <td>2608.0</td>\n",
       "      <td>1</td>\n",
       "    </tr>\n",
       "    <tr>\n",
       "      <th>4</th>\n",
       "      <td>1182.0</td>\n",
       "      <td>1596.0</td>\n",
       "      <td>2192.0</td>\n",
       "      <td>3113.0</td>\n",
       "      <td>1</td>\n",
       "    </tr>\n",
       "  </tbody>\n",
       "</table>\n",
       "</div>"
      ],
      "text/plain": [
       "       B2      B3      B4      B8  class_3\n",
       "0  1122.0  1440.0  1754.0  1960.0        2\n",
       "1   450.0   766.0  1002.0  2248.0        2\n",
       "2  1323.0  1322.0  1153.0  1464.0        0\n",
       "3   991.0  1278.0  1672.0  2608.0        1\n",
       "4  1182.0  1596.0  2192.0  3113.0        1"
      ]
     },
     "execution_count": 7,
     "metadata": {},
     "output_type": "execute_result"
    }
   ],
   "source": [
    "df_train.head()"
   ]
  },
  {
   "cell_type": "code",
   "execution_count": 8,
   "id": "f128a3fa",
   "metadata": {},
   "outputs": [],
   "source": [
    "df_train_y = df_train['class_3']\n",
    "df_train_x = df_train[['B2', 'B3', 'B4', 'B8']]\n",
    "\n",
    "df_test_y = df_test['class_3']\n",
    "df_test_x = df_test[['B2', 'B3', 'B4', 'B8']]"
   ]
  },
  {
   "cell_type": "code",
   "execution_count": 9,
   "id": "902cbe8c",
   "metadata": {},
   "outputs": [],
   "source": [
    "# Scaling the data\n",
    "\n",
    "from sklearn.preprocessing import StandardScaler\n",
    "\n",
    "scaler = StandardScaler()\n",
    "\n",
    "col_names = df_train_x.columns\n",
    "df_train_x = pd.DataFrame(scaler.fit_transform(df_train_x), columns = col_names)\n",
    "df_test_x = pd.DataFrame(scaler.transform(df_test_x), columns = col_names)"
   ]
  },
  {
   "cell_type": "code",
   "execution_count": 10,
   "id": "8b655e7a",
   "metadata": {},
   "outputs": [
    {
     "data": {
      "text/html": [
       "<div>\n",
       "<style scoped>\n",
       "    .dataframe tbody tr th:only-of-type {\n",
       "        vertical-align: middle;\n",
       "    }\n",
       "\n",
       "    .dataframe tbody tr th {\n",
       "        vertical-align: top;\n",
       "    }\n",
       "\n",
       "    .dataframe thead th {\n",
       "        text-align: right;\n",
       "    }\n",
       "</style>\n",
       "<table border=\"1\" class=\"dataframe\">\n",
       "  <thead>\n",
       "    <tr style=\"text-align: right;\">\n",
       "      <th></th>\n",
       "      <th>B2</th>\n",
       "      <th>B3</th>\n",
       "      <th>B4</th>\n",
       "      <th>B8</th>\n",
       "    </tr>\n",
       "  </thead>\n",
       "  <tbody>\n",
       "    <tr>\n",
       "      <th>0</th>\n",
       "      <td>-1.084530</td>\n",
       "      <td>-0.808724</td>\n",
       "      <td>-1.292489</td>\n",
       "      <td>1.475734</td>\n",
       "    </tr>\n",
       "    <tr>\n",
       "      <th>1</th>\n",
       "      <td>0.287863</td>\n",
       "      <td>0.284545</td>\n",
       "      <td>0.358227</td>\n",
       "      <td>-0.065508</td>\n",
       "    </tr>\n",
       "    <tr>\n",
       "      <th>2</th>\n",
       "      <td>0.034651</td>\n",
       "      <td>-0.016340</td>\n",
       "      <td>0.035810</td>\n",
       "      <td>0.082688</td>\n",
       "    </tr>\n",
       "    <tr>\n",
       "      <th>3</th>\n",
       "      <td>-0.745639</td>\n",
       "      <td>-0.804786</td>\n",
       "      <td>-0.814063</td>\n",
       "      <td>0.079865</td>\n",
       "    </tr>\n",
       "    <tr>\n",
       "      <th>4</th>\n",
       "      <td>-0.790773</td>\n",
       "      <td>-0.873312</td>\n",
       "      <td>-1.226371</td>\n",
       "      <td>0.072103</td>\n",
       "    </tr>\n",
       "  </tbody>\n",
       "</table>\n",
       "</div>"
      ],
      "text/plain": [
       "         B2        B3        B4        B8\n",
       "0 -1.084530 -0.808724 -1.292489  1.475734\n",
       "1  0.287863  0.284545  0.358227 -0.065508\n",
       "2  0.034651 -0.016340  0.035810  0.082688\n",
       "3 -0.745639 -0.804786 -0.814063  0.079865\n",
       "4 -0.790773 -0.873312 -1.226371  0.072103"
      ]
     },
     "execution_count": 10,
     "metadata": {},
     "output_type": "execute_result"
    }
   ],
   "source": [
    "df_test_x.head()"
   ]
  },
  {
   "cell_type": "markdown",
   "id": "50271245",
   "metadata": {},
   "source": [
    "### Grid Search"
   ]
  },
  {
   "cell_type": "code",
   "execution_count": 49,
   "id": "609a995e",
   "metadata": {},
   "outputs": [
    {
     "name": "stdout",
     "output_type": "stream",
     "text": [
      "Fitting 5 folds for each of 216 candidates, totalling 1080 fits\n"
     ]
    },
    {
     "data": {
      "text/plain": [
       "GridSearchCV(estimator=GradientBoostingClassifier(init='zero', random_state=42),\n",
       "             n_jobs=-1,\n",
       "             param_grid={'learning_rate': [0.01, 0.1, 0.15, 0.2, 0.25, 0.5],\n",
       "                         'n_estimators': [100, 150, 200, 300, 500, 700, 1000,\n",
       "                                          1500, 2000],\n",
       "                         'subsample': [0.25, 0.5, 0.75, 1]},\n",
       "             scoring='accuracy', verbose=10)"
      ]
     },
     "execution_count": 49,
     "metadata": {},
     "output_type": "execute_result"
    }
   ],
   "source": [
    "from sklearn.model_selection import GridSearchCV\n",
    "\n",
    "params = {'n_estimators': [100, 150, 200, 300, 500, 700, 1000, 1500, 2000],\n",
    "         'learning_rate': [0.01, 0.1, 0.15, 0.2, 0.25, 0.5],\n",
    "         'subsample': [0.25, 0.5, 0.75, 1]}\n",
    "\n",
    "gb = GradientBoostingClassifier(random_state=42, init='zero')\n",
    "clf = GridSearchCV(gb, params, n_jobs = -1, scoring = 'accuracy', verbose=10)\n",
    "\n",
    "clf.fit(df_train_x, df_train_y)"
   ]
  },
  {
   "cell_type": "code",
   "execution_count": 50,
   "id": "25b63853",
   "metadata": {},
   "outputs": [
    {
     "data": {
      "text/plain": [
       "{'learning_rate': 0.2, 'n_estimators': 700, 'subsample': 0.75}"
      ]
     },
     "execution_count": 50,
     "metadata": {},
     "output_type": "execute_result"
    }
   ],
   "source": [
    "clf.best_params_"
   ]
  },
  {
   "cell_type": "code",
   "execution_count": 51,
   "id": "c7bdb16d",
   "metadata": {},
   "outputs": [
    {
     "data": {
      "text/plain": [
       "0.8131939365820797"
      ]
     },
     "execution_count": 51,
     "metadata": {},
     "output_type": "execute_result"
    }
   ],
   "source": [
    "clf.best_score_"
   ]
  },
  {
   "cell_type": "markdown",
   "id": "6eec6622",
   "metadata": {},
   "source": [
    "### Gradient Boosting Ensemble Model"
   ]
  },
  {
   "cell_type": "code",
   "execution_count": 12,
   "id": "0e6d7c67",
   "metadata": {},
   "outputs": [
    {
     "name": "stdout",
     "output_type": "stream",
     "text": [
      "0.826007326007326\n"
     ]
    }
   ],
   "source": [
    "from sklearn.ensemble import GradientBoostingClassifier\n",
    "from sklearn.tree import DecisionTreeClassifier\n",
    "from sklearn.metrics import accuracy_score\n",
    "\n",
    "gb_clf = GradientBoostingClassifier(n_estimators=700, subsample = 0.75, random_state=42, init='zero', learning_rate=0.2)\n",
    "\n",
    "gb_clf.fit(df_train_x, df_train_y)\n",
    "\n",
    "y_pred_gb = gb_clf.predict(df_test_x)\n",
    "print(accuracy_score(df_test_y, y_pred_gb))"
   ]
  },
  {
   "cell_type": "code",
   "execution_count": 14,
   "id": "78cd57cb",
   "metadata": {},
   "outputs": [
    {
     "data": {
      "image/png": "[encoded data removed]",
      "text/plain": [
       "<Figure size 432x288 with 2 Axes>"
      ]
     },
     "metadata": {
      "needs_background": "light"
     },
     "output_type": "display_data"
    }
   ],
   "source": [
    "from sklearn.metrics import plot_confusion_matrix\n",
    "\n",
    "plot_confusion_matrix(gb_clf, df_test_x, df_test_y, cmap='Greens', normalize='true')\n",
    "plt.show()"
   ]
  },
  {
   "cell_type": "code",
   "execution_count": 15,
   "id": "b20b74b8",
   "metadata": {},
   "outputs": [
    {
     "name": "stdout",
     "output_type": "stream",
     "text": [
      "              precision    recall  f1-score   support\n",
      "\n",
      "           0       0.85      0.91      0.88       364\n",
      "           1       0.79      0.78      0.78       364\n",
      "           2       0.84      0.79      0.82       364\n",
      "\n",
      "    accuracy                           0.83      1092\n",
      "   macro avg       0.83      0.83      0.83      1092\n",
      "weighted avg       0.83      0.83      0.83      1092\n",
      "\n"
     ]
    }
   ],
   "source": [
    "from sklearn.metrics import classification_report\n",
    "\n",
    "print(classification_report(df_test_y, y_pred_gb))"
   ]
  }
 ],
 "metadata": {
  "kernelspec": {
   "display_name": "Python 3",
   "language": "python",
   "name": "python3"
  },
  "language_info": {
   "codemirror_mode": {
    "name": "ipython",
    "version": 3
   },
   "file_extension": ".py",
   "mimetype": "text/x-python",
   "name": "python",
   "nbconvert_exporter": "python",
   "pygments_lexer": "ipython3",
   "version": "3.8.8"
  }
 },
 "nbformat": 4,
 "nbformat_minor": 5
}
