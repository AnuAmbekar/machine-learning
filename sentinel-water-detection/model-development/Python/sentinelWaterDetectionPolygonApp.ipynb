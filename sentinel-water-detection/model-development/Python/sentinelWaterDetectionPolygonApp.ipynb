{
 "cells": [
  {
   "cell_type": "code",
   "execution_count": 1,
   "id": "b6304edc",
   "metadata": {},
   "outputs": [
    {
     "data": {
      "text/html": [
       "<p>To authorize access needed by Earth Engine, open the following\n",
       "        URL in a web browser and follow the instructions:</p>\n",
       "        <p><a href=https://code.earthengine.google.com/client-auth?scopes=https%3A//www.googleapis.com/auth/earthengine%20https%3A//www.googleapis.com/auth/devstorage.full_control&request_id=ehOMdZzhTjfXYbhZwAFZgC28z28RTaDAcEIdcmd2AQU&tc=lyOt4NR2dp4jDxE2ChVNBQ4XmqrNbIy3HAUEhPAc5Po&cc=MqhuJwJRcWoEHK4DpAWJURgA2dbjc3G1lSjRd57b0_4>https://code.earthengine.google.com/client-auth?scopes=https%3A//www.googleapis.com/auth/earthengine%20https%3A//www.googleapis.com/auth/devstorage.full_control&request_id=ehOMdZzhTjfXYbhZwAFZgC28z28RTaDAcEIdcmd2AQU&tc=lyOt4NR2dp4jDxE2ChVNBQ4XmqrNbIy3HAUEhPAc5Po&cc=MqhuJwJRcWoEHK4DpAWJURgA2dbjc3G1lSjRd57b0_4</a></p>\n",
       "        <p>The authorization workflow will generate a code, which you should paste in the box below.</p>\n",
       "        "
      ],
      "text/plain": [
       "<IPython.core.display.HTML object>"
      ]
     },
     "metadata": {},
     "output_type": "display_data"
    },
    {
     "name": "stdout",
     "output_type": "stream",
     "text": [
      "Enter verification code: 4/1AdQt8qi-O8hKqBcruyYPJCyq4f0xMBibEXAgQgjmmrc4LlrEfJsVf84HdIw\n",
      "\n",
      "Successfully saved authorization token.\n"
     ]
    }
   ],
   "source": [
    "#if haven't installed ee package, please run the command in next line first\n",
    "#conda install -c conda-forge earthengine-api\n",
    "\n",
    "#keep up to date\n",
    "#conda update -c conda-forge earthengine-api\n",
    "\n",
    "#install folium package for interactive map\n",
    "#conda install folium\n",
    "\n",
    "import ee\n",
    "import folium\n",
    "\n",
    "#need to generate token once you authorised\n",
    "ee.Authenticate()\n",
    "\n",
    "# Initialize the library.\n",
    "ee.Initialize()"
   ]
  },
  {
   "cell_type": "code",
   "execution_count": 2,
   "id": "98ce7e6b",
   "metadata": {},
   "outputs": [],
   "source": [
    "#load classifier as ee feature collection\n",
    "#cart_classifier = ee.FeatureCollection(\"users/ee-gupei/randomforest_classifier_3\")\n",
    "cart_classifier = ee.FeatureCollection(\"projects/ee-gupei/assets/randomforest_classifier_3\")\n",
    "\n",
    "\n",
    "geometry = ee.FeatureCollection(\"projects/ee-gupei/assets/Final_data_9k\")"
   ]
  },
  {
   "cell_type": "code",
   "execution_count": 3,
   "id": "9a738a24",
   "metadata": {},
   "outputs": [
    {
     "data": {
      "text/plain": [
       "<ee.featurecollection.FeatureCollection at 0x7f91e9fa4df0>"
      ]
     },
     "execution_count": 3,
     "metadata": {},
     "output_type": "execute_result"
    }
   ],
   "source": [
    "geometry"
   ]
  },
  {
   "cell_type": "code",
   "execution_count": 4,
   "id": "bfc0216f",
   "metadata": {},
   "outputs": [
    {
     "data": {
      "text/plain": [
       "<ee.element.Element at 0x7f91e9f89490>"
      ]
     },
     "execution_count": 4,
     "metadata": {},
     "output_type": "execute_result"
    }
   ],
   "source": [
    "cart_classifier.first()"
   ]
  },
  {
   "cell_type": "code",
   "execution_count": 5,
   "id": "8cb4c5cf",
   "metadata": {},
   "outputs": [],
   "source": [
    "#sentinel 2A\n",
    "Sentinel2A = ee.ImageCollection(\"COPERNICUS/S2_SR\");"
   ]
  },
  {
   "cell_type": "code",
   "execution_count": 6,
   "id": "054dbfdc",
   "metadata": {},
   "outputs": [],
   "source": [
    "classifier_string = cart_classifier.first().get('classifier');"
   ]
  },
  {
   "cell_type": "code",
   "execution_count": 7,
   "id": "10525980",
   "metadata": {},
   "outputs": [],
   "source": [
    "#call ee classifier decisionTree\n",
    "classifier = ee.Classifier.decisionTree(classifier_string);"
   ]
  },
  {
   "cell_type": "code",
   "execution_count": 8,
   "id": "1dae897f",
   "metadata": {},
   "outputs": [],
   "source": [
    "#set the bands\n",
    "BANDS = ['B2', 'B3', 'B4', 'B8'];"
   ]
  },
  {
   "cell_type": "code",
   "execution_count": 9,
   "id": "a8ce3b60",
   "metadata": {},
   "outputs": [],
   "source": [
    "#filter by date range, and Bands\n",
    "ic = Sentinel2A.filter(ee.Filter.lt('CLOUDY_PIXEL_PERCENTAGE', 15))\n",
    "ic = ic.select(BANDS).filterDate('2016-07-01', '2020-12-01').median();"
   ]
  },
  {
   "cell_type": "code",
   "execution_count": 10,
   "id": "8e069169",
   "metadata": {},
   "outputs": [],
   "source": [
    "classified = ic.classify(classifier);"
   ]
  },
  {
   "cell_type": "code",
   "execution_count": 11,
   "id": "5af85617",
   "metadata": {},
   "outputs": [
    {
     "data": {
      "text/plain": [
       "<ee.image.Image at 0x7f91e9f7e3d0>"
      ]
     },
     "execution_count": 11,
     "metadata": {},
     "output_type": "execute_result"
    }
   ],
   "source": [
    "classified.clip(geometry)"
   ]
  },
  {
   "cell_type": "code",
   "execution_count": 19,
   "id": "a3b10b23",
   "metadata": {},
   "outputs": [],
   "source": [
    "palette = [\n",
    "  '0000FF', #Water\n",
    "  '008000', #Veg\n",
    "  'A52A2A'  #Land\n",
    "]\n",
    "\n",
    "# image_vis_params = {\n",
    "#     'bands': ['B2', 'B3', 'B4', 'B8'],\n",
    "#     'min': 0,\n",
    "#     'max': 0.5,\n",
    "#     'gamma': [0.95, 1.1, 1]\n",
    "# }\n"
   ]
  },
  {
   "cell_type": "code",
   "execution_count": 21,
   "id": "360aed81",
   "metadata": {},
   "outputs": [],
   "source": [
    "lat = -37.8\n",
    "lon = 145.2\n",
    "Map = folium.Map(location=[lat, lon], zoom_start=10)\n",
    "\n",
    "def add_ee_layer(self, ee_image_object, vis_params, name):\n",
    "  map_id_dict = ee.Image(ee_image_object).getMapId(vis_params)\n",
    "  folium.raster_layers.TileLayer(\n",
    "      tiles=map_id_dict['tile_fetcher'].url_format,\n",
    "      attr='Map Data &copy; <a href=\"https://earthengine.google.com/\">Google Earth Engine</a>',\n",
    "      name=name,\n",
    "      overlay=True,\n",
    "      control=True\n",
    "  ).add_to(self)\n",
    "    \n",
    "folium.Map.add_ee_layer = add_ee_layer\n"
   ]
  },
  {
   "cell_type": "code",
   "execution_count": null,
   "id": "d8dd8cac",
   "metadata": {},
   "outputs": [],
   "source": [
    "# Add the image layer to the map and display it.\n",
    "Map.add_ee_layer(classified.clip(geometry), {'palette': palette, 'min': 0, 'max': 2}, 'Classification CART')\n",
    "display(Map)"
   ]
  }
 ],
 "metadata": {
  "kernelspec": {
   "display_name": "Python 3 (ipykernel)",
   "language": "python",
   "name": "python3"
  },
  "language_info": {
   "codemirror_mode": {
    "name": "ipython",
    "version": 3
   },
   "file_extension": ".py",
   "mimetype": "text/x-python",
   "name": "python",
   "nbconvert_exporter": "python",
   "pygments_lexer": "ipython3",
   "version": "3.8.2"
  }
 },
 "nbformat": 4,
 "nbformat_minor": 5
}
